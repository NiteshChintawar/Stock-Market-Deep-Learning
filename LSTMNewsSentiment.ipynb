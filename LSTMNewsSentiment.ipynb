{
 "cells": [
  {
   "cell_type": "code",
   "execution_count": 1,
   "metadata": {},
   "outputs": [
    {
     "name": "stderr",
     "output_type": "stream",
     "text": [
      "[nltk_data] Downloading package punkt to /home/sunbeam/nltk_data...\n",
      "[nltk_data]   Package punkt is already up-to-date!\n"
     ]
    }
   ],
   "source": [
    "import pandas as pd\n",
    "import numpy as np\n",
    "from tqdm import tqdm\n",
    "from keras.preprocessing.text import Tokenizer\n",
    "tqdm.pandas(desc = 'progress-bad')\n",
    "\n",
    "from sklearn import utils\n",
    "from sklearn.model_selection import train_test_split\n",
    "from keras.preprocessing.sequence import pad_sequences\n",
    "import gensim\n",
    "from gensim.models import Doc2Vec\n",
    "from gensim.models.doc2vec import TaggedDocument\n",
    "\n",
    "\n",
    "import re\n",
    "import seaborn as sns\n",
    "import matplotlib.pyplot as plt\n",
    "import nltk\n",
    "nltk.download('punkt')\n",
    "from textblob import TextBlob\n",
    "from textblob import Word\n",
    "\n",
    "from bs4 import BeautifulSoup"
   ]
  },
  {
   "cell_type": "markdown",
   "metadata": {},
   "source": [
    "## FOR IMPORTING THE TRAINING PART DATA IN NOSQL\n",
    "* mongoimport -d sentiment_analysis -c trainingOrignal --headerline --type=csv ~/PycharmProjects/FinalProject/all-data.csv  --> For Importing the Data\n",
    "\n",
    "## FOR IMPORTING THE CRAWLED PART DATA IN NOSQL\n",
    "* mongoimport -d sentiment_analysis -c crawled --headerline --type=csv ~/PycharmProjects/FinalProject/final_all_data1.csv  for importing the crawled data\n"
   ]
  },
  {
   "cell_type": "code",
   "execution_count": 2,
   "metadata": {},
   "outputs": [],
   "source": [
    "import pymongo\n",
    "from pymongo import MongoClient\n",
    "\n",
    "client = MongoClient(\"mongodb://localhost:27017\")\n",
    "db = client['sentiment_analysis']"
   ]
  },
  {
   "cell_type": "code",
   "execution_count": 3,
   "metadata": {},
   "outputs": [],
   "source": [
    "#LOADING THE TRAINING PART PSUEDO DATA IN pandas From NoSql\n",
    "df_orignal = db['trainingOrignal'].find({},{\"_id\": 0,\"label\" : 1, \"content\" : 1})\n",
    "df_orignal = pd.DataFrame(df_orignal)"
   ]
  },
  {
   "cell_type": "code",
   "execution_count": 4,
   "metadata": {},
   "outputs": [
    {
     "data": {
      "text/html": [
       "<div>\n",
       "<style scoped>\n",
       "    .dataframe tbody tr th:only-of-type {\n",
       "        vertical-align: middle;\n",
       "    }\n",
       "\n",
       "    .dataframe tbody tr th {\n",
       "        vertical-align: top;\n",
       "    }\n",
       "\n",
       "    .dataframe thead th {\n",
       "        text-align: right;\n",
       "    }\n",
       "</style>\n",
       "<table border=\"1\" class=\"dataframe\">\n",
       "  <thead>\n",
       "    <tr style=\"text-align: right;\">\n",
       "      <th></th>\n",
       "      <th>label</th>\n",
       "      <th>content</th>\n",
       "    </tr>\n",
       "  </thead>\n",
       "  <tbody>\n",
       "    <tr>\n",
       "      <th>0</th>\n",
       "      <td>neutral</td>\n",
       "      <td>According to Gran , the company has no plans t...</td>\n",
       "    </tr>\n",
       "    <tr>\n",
       "      <th>1</th>\n",
       "      <td>negative</td>\n",
       "      <td>The international electronic industry company ...</td>\n",
       "    </tr>\n",
       "    <tr>\n",
       "      <th>2</th>\n",
       "      <td>neutral</td>\n",
       "      <td>Technopolis plans to develop in stages an area...</td>\n",
       "    </tr>\n",
       "    <tr>\n",
       "      <th>3</th>\n",
       "      <td>positive</td>\n",
       "      <td>According to the company 's updated strategy f...</td>\n",
       "    </tr>\n",
       "    <tr>\n",
       "      <th>4</th>\n",
       "      <td>positive</td>\n",
       "      <td>With the new production plant the company woul...</td>\n",
       "    </tr>\n",
       "  </tbody>\n",
       "</table>\n",
       "</div>"
      ],
      "text/plain": [
       "      label                                            content\n",
       "0   neutral  According to Gran , the company has no plans t...\n",
       "1  negative  The international electronic industry company ...\n",
       "2   neutral  Technopolis plans to develop in stages an area...\n",
       "3  positive  According to the company 's updated strategy f...\n",
       "4  positive  With the new production plant the company woul..."
      ]
     },
     "execution_count": 4,
     "metadata": {},
     "output_type": "execute_result"
    }
   ],
   "source": [
    "df_orignal.head()"
   ]
  },
  {
   "cell_type": "code",
   "execution_count": 5,
   "metadata": {},
   "outputs": [
    {
     "data": {
      "text/plain": [
       "label      4846\n",
       "content    4846\n",
       "dtype: int64"
      ]
     },
     "execution_count": 5,
     "metadata": {},
     "output_type": "execute_result"
    }
   ],
   "source": [
    "df_orignal.count()"
   ]
  },
  {
   "cell_type": "code",
   "execution_count": 6,
   "metadata": {},
   "outputs": [],
   "source": [
    "#LOADING THE Crawled Part PSUEDO DATA IN Pandas From NoSql\n",
    "df_crawled = db['crawled'].find({},{\"_id\": 0,\"label\" : 1, \"content\" : 1})\n",
    "df_crawled = pd.DataFrame(df_crawled)"
   ]
  },
  {
   "cell_type": "code",
   "execution_count": 7,
   "metadata": {},
   "outputs": [
    {
     "data": {
      "text/html": [
       "<div>\n",
       "<style scoped>\n",
       "    .dataframe tbody tr th:only-of-type {\n",
       "        vertical-align: middle;\n",
       "    }\n",
       "\n",
       "    .dataframe tbody tr th {\n",
       "        vertical-align: top;\n",
       "    }\n",
       "\n",
       "    .dataframe thead th {\n",
       "        text-align: right;\n",
       "    }\n",
       "</style>\n",
       "<table border=\"1\" class=\"dataframe\">\n",
       "  <thead>\n",
       "    <tr style=\"text-align: right;\">\n",
       "      <th></th>\n",
       "      <th>label</th>\n",
       "      <th>content</th>\n",
       "    </tr>\n",
       "  </thead>\n",
       "  <tbody>\n",
       "    <tr>\n",
       "      <th>0</th>\n",
       "      <td>positive</td>\n",
       "      <td>It has been an interesting time for stay-at-ho...</td>\n",
       "    </tr>\n",
       "    <tr>\n",
       "      <th>1</th>\n",
       "      <td>positive</td>\n",
       "      <td>Netflix (NASDAQ: NFLX) still commands the fiel...</td>\n",
       "    </tr>\n",
       "    <tr>\n",
       "      <th>2</th>\n",
       "      <td>neutral</td>\n",
       "      <td></td>\n",
       "    </tr>\n",
       "    <tr>\n",
       "      <th>3</th>\n",
       "      <td>positive</td>\n",
       "      <td>Netflix (NASDAQ: NFLX) enacted price increases...</td>\n",
       "    </tr>\n",
       "    <tr>\n",
       "      <th>4</th>\n",
       "      <td>neutral</td>\n",
       "      <td>Individual investors have access to a nearly i...</td>\n",
       "    </tr>\n",
       "  </tbody>\n",
       "</table>\n",
       "</div>"
      ],
      "text/plain": [
       "      label                                            content\n",
       "0  positive  It has been an interesting time for stay-at-ho...\n",
       "1  positive  Netflix (NASDAQ: NFLX) still commands the fiel...\n",
       "2   neutral                                                   \n",
       "3  positive  Netflix (NASDAQ: NFLX) enacted price increases...\n",
       "4   neutral  Individual investors have access to a nearly i..."
      ]
     },
     "execution_count": 7,
     "metadata": {},
     "output_type": "execute_result"
    }
   ],
   "source": [
    "df_crawled.head()"
   ]
  },
  {
   "cell_type": "code",
   "execution_count": 8,
   "metadata": {},
   "outputs": [
    {
     "data": {
      "text/plain": [
       "label      1245\n",
       "content    1245\n",
       "dtype: int64"
      ]
     },
     "execution_count": 8,
     "metadata": {},
     "output_type": "execute_result"
    }
   ],
   "source": [
    "df_crawled.count()"
   ]
  },
  {
   "cell_type": "markdown",
   "metadata": {},
   "source": [
    "## Cleaning Begins"
   ]
  },
  {
   "cell_type": "code",
   "execution_count": 9,
   "metadata": {},
   "outputs": [
    {
     "data": {
      "text/plain": [
       "label      0\n",
       "content    0\n",
       "dtype: int64"
      ]
     },
     "execution_count": 9,
     "metadata": {},
     "output_type": "execute_result"
    }
   ],
   "source": [
    "df_orignal.isna().sum()"
   ]
  },
  {
   "cell_type": "code",
   "execution_count": 10,
   "metadata": {},
   "outputs": [
    {
     "data": {
      "text/plain": [
       "label      407\n",
       "content    407\n",
       "dtype: int64"
      ]
     },
     "execution_count": 10,
     "metadata": {},
     "output_type": "execute_result"
    }
   ],
   "source": [
    "df_crawled[df_crawled['content'] == ''].count()"
   ]
  },
  {
   "cell_type": "code",
   "execution_count": 11,
   "metadata": {},
   "outputs": [],
   "source": [
    "df_crawled = df_crawled[df_crawled['content'] != '']"
   ]
  },
  {
   "cell_type": "code",
   "execution_count": 12,
   "metadata": {},
   "outputs": [
    {
     "data": {
      "text/plain": [
       "label      0\n",
       "content    0\n",
       "dtype: int64"
      ]
     },
     "execution_count": 12,
     "metadata": {},
     "output_type": "execute_result"
    }
   ],
   "source": [
    "df_crawled[df_crawled['content'] == ''].count()"
   ]
  },
  {
   "cell_type": "code",
   "execution_count": 13,
   "metadata": {},
   "outputs": [
    {
     "name": "stderr",
     "output_type": "stream",
     "text": [
      "[nltk_data] Downloading package wordnet to /home/sunbeam/nltk_data...\n",
      "[nltk_data]   Package wordnet is already up-to-date!\n"
     ]
    }
   ],
   "source": [
    "nltk.download('wordnet')\n",
    "x = TextBlob(\"this year feels really really bad, i hope it doesnt get any worse\")"
   ]
  },
  {
   "cell_type": "code",
   "execution_count": 14,
   "metadata": {},
   "outputs": [
    {
     "data": {
      "text/plain": [
       "Sentiment(polarity=-0.5499999999999999, subjectivity=0.6333333333333333)"
      ]
     },
     "execution_count": 14,
     "metadata": {},
     "output_type": "execute_result"
    }
   ],
   "source": [
    "x.sentiment"
   ]
  },
  {
   "cell_type": "markdown",
   "metadata": {},
   "source": [
    "### LOlk"
   ]
  },
  {
   "cell_type": "code",
   "execution_count": 15,
   "metadata": {},
   "outputs": [
    {
     "data": {
      "text/plain": [
       "'playing'"
      ]
     },
     "execution_count": 15,
     "metadata": {},
     "output_type": "execute_result"
    }
   ],
   "source": [
    "y = Word(\"playing\")\n",
    "y.lemmatize()"
   ]
  },
  {
   "cell_type": "code",
   "execution_count": 16,
   "metadata": {},
   "outputs": [
    {
     "data": {
      "text/plain": [
       "'playing'"
      ]
     },
     "execution_count": 16,
     "metadata": {},
     "output_type": "execute_result"
    }
   ],
   "source": [
    "y"
   ]
  },
  {
   "cell_type": "code",
   "execution_count": 17,
   "metadata": {},
   "outputs": [
    {
     "data": {
      "text/plain": [
       "label      0\n",
       "content    0\n",
       "dtype: int64"
      ]
     },
     "execution_count": 17,
     "metadata": {},
     "output_type": "execute_result"
    }
   ],
   "source": [
    "df_crawled.isna().sum()"
   ]
  },
  {
   "cell_type": "code",
   "execution_count": 18,
   "metadata": {},
   "outputs": [
    {
     "name": "stdout",
     "output_type": "stream",
     "text": [
      "<class 'pandas.core.frame.DataFrame'>\n",
      "Int64Index: 838 entries, 0 to 1243\n",
      "Data columns (total 3 columns):\n",
      " #   Column    Non-Null Count  Dtype  \n",
      "---  ------    --------------  -----  \n",
      " 0   label     838 non-null    object \n",
      " 1   content   838 non-null    object \n",
      " 2   polarity  838 non-null    float64\n",
      "dtypes: float64(1), object(2)\n",
      "memory usage: 26.2+ KB\n"
     ]
    }
   ],
   "source": [
    "df_crawled['polarity'] = df_crawled['content'].apply(lambda x: TextBlob(Word(x).lemmatize()).sentiment[0])\n",
    "df_crawled.info()"
   ]
  },
  {
   "cell_type": "code",
   "execution_count": 19,
   "metadata": {},
   "outputs": [
    {
     "data": {
      "text/html": [
       "<div>\n",
       "<style scoped>\n",
       "    .dataframe tbody tr th:only-of-type {\n",
       "        vertical-align: middle;\n",
       "    }\n",
       "\n",
       "    .dataframe tbody tr th {\n",
       "        vertical-align: top;\n",
       "    }\n",
       "\n",
       "    .dataframe thead th {\n",
       "        text-align: right;\n",
       "    }\n",
       "</style>\n",
       "<table border=\"1\" class=\"dataframe\">\n",
       "  <thead>\n",
       "    <tr style=\"text-align: right;\">\n",
       "      <th></th>\n",
       "      <th>label</th>\n",
       "      <th>content</th>\n",
       "    </tr>\n",
       "  </thead>\n",
       "  <tbody>\n",
       "    <tr>\n",
       "      <th>0</th>\n",
       "      <td>positive</td>\n",
       "      <td>It has been an interesting time for stay-at-ho...</td>\n",
       "    </tr>\n",
       "    <tr>\n",
       "      <th>1</th>\n",
       "      <td>neutral</td>\n",
       "      <td>Netflix (NASDAQ: NFLX) still commands the fiel...</td>\n",
       "    </tr>\n",
       "    <tr>\n",
       "      <th>3</th>\n",
       "      <td>positive</td>\n",
       "      <td>Netflix (NASDAQ: NFLX) enacted price increases...</td>\n",
       "    </tr>\n",
       "    <tr>\n",
       "      <th>4</th>\n",
       "      <td>positive</td>\n",
       "      <td>Individual investors have access to a nearly i...</td>\n",
       "    </tr>\n",
       "    <tr>\n",
       "      <th>5</th>\n",
       "      <td>neutral</td>\n",
       "      <td>BENGALURU, Jan 13 (Reuters) - Amazon.com AMZN....</td>\n",
       "    </tr>\n",
       "  </tbody>\n",
       "</table>\n",
       "</div>"
      ],
      "text/plain": [
       "      label                                            content\n",
       "0  positive  It has been an interesting time for stay-at-ho...\n",
       "1   neutral  Netflix (NASDAQ: NFLX) still commands the fiel...\n",
       "3  positive  Netflix (NASDAQ: NFLX) enacted price increases...\n",
       "4  positive  Individual investors have access to a nearly i...\n",
       "5   neutral  BENGALURU, Jan 13 (Reuters) - Amazon.com AMZN...."
      ]
     },
     "execution_count": 19,
     "metadata": {},
     "output_type": "execute_result"
    }
   ],
   "source": [
    "df_crawled.loc[df_crawled.polarity < 0 ,'label'] = 'negative'\n",
    "df_crawled.loc[df_crawled.polarity > 0 ,'label'] = 'positive'\n",
    "df_crawled.loc[df_crawled.polarity == 0 ,'label'] = 'neutral'\n",
    "df_crawled.drop('polarity',axis = 1,inplace = True)\n",
    "df_crawled.head()"
   ]
  },
  {
   "cell_type": "code",
   "execution_count": 20,
   "metadata": {},
   "outputs": [
    {
     "data": {
      "text/html": [
       "<div>\n",
       "<style scoped>\n",
       "    .dataframe tbody tr th:only-of-type {\n",
       "        vertical-align: middle;\n",
       "    }\n",
       "\n",
       "    .dataframe tbody tr th {\n",
       "        vertical-align: top;\n",
       "    }\n",
       "\n",
       "    .dataframe thead tr th {\n",
       "        text-align: left;\n",
       "    }\n",
       "\n",
       "    .dataframe thead tr:last-of-type th {\n",
       "        text-align: right;\n",
       "    }\n",
       "</style>\n",
       "<table border=\"1\" class=\"dataframe\">\n",
       "  <thead>\n",
       "    <tr>\n",
       "      <th></th>\n",
       "      <th>content</th>\n",
       "    </tr>\n",
       "    <tr>\n",
       "      <th></th>\n",
       "      <th>count</th>\n",
       "    </tr>\n",
       "    <tr>\n",
       "      <th>label</th>\n",
       "      <th></th>\n",
       "    </tr>\n",
       "  </thead>\n",
       "  <tbody>\n",
       "    <tr>\n",
       "      <th>negative</th>\n",
       "      <td>604</td>\n",
       "    </tr>\n",
       "    <tr>\n",
       "      <th>neutral</th>\n",
       "      <td>2879</td>\n",
       "    </tr>\n",
       "    <tr>\n",
       "      <th>positive</th>\n",
       "      <td>1363</td>\n",
       "    </tr>\n",
       "  </tbody>\n",
       "</table>\n",
       "</div>"
      ],
      "text/plain": [
       "         content\n",
       "           count\n",
       "label           \n",
       "negative     604\n",
       "neutral     2879\n",
       "positive    1363"
      ]
     },
     "execution_count": 20,
     "metadata": {},
     "output_type": "execute_result"
    }
   ],
   "source": [
    "df_orignal[['label','content']].groupby(['label']).agg(['count'])"
   ]
  },
  {
   "cell_type": "code",
   "execution_count": 21,
   "metadata": {},
   "outputs": [
    {
     "data": {
      "text/plain": [
       "<AxesSubplot:xlabel='label', ylabel='count'>"
      ]
     },
     "execution_count": 21,
     "metadata": {},
     "output_type": "execute_result"
    },
    {
     "data": {
      "image/png": "[encoded data removed]",
      "text/plain": [
       "<Figure size 432x288 with 1 Axes>"
      ]
     },
     "metadata": {},
     "output_type": "display_data"
    }
   ],
   "source": [
    "sns.set_theme(style = 'darkgrid')\n",
    "sns.countplot(x = 'label', data = df_orignal)"
   ]
  },
  {
   "cell_type": "code",
   "execution_count": 22,
   "metadata": {},
   "outputs": [
    {
     "data": {
      "text/html": [
       "<div>\n",
       "<style scoped>\n",
       "    .dataframe tbody tr th:only-of-type {\n",
       "        vertical-align: middle;\n",
       "    }\n",
       "\n",
       "    .dataframe tbody tr th {\n",
       "        vertical-align: top;\n",
       "    }\n",
       "\n",
       "    .dataframe thead tr th {\n",
       "        text-align: left;\n",
       "    }\n",
       "\n",
       "    .dataframe thead tr:last-of-type th {\n",
       "        text-align: right;\n",
       "    }\n",
       "</style>\n",
       "<table border=\"1\" class=\"dataframe\">\n",
       "  <thead>\n",
       "    <tr>\n",
       "      <th></th>\n",
       "      <th>content</th>\n",
       "    </tr>\n",
       "    <tr>\n",
       "      <th></th>\n",
       "      <th>count</th>\n",
       "    </tr>\n",
       "    <tr>\n",
       "      <th>label</th>\n",
       "      <th></th>\n",
       "    </tr>\n",
       "  </thead>\n",
       "  <tbody>\n",
       "    <tr>\n",
       "      <th>negative</th>\n",
       "      <td>118</td>\n",
       "    </tr>\n",
       "    <tr>\n",
       "      <th>neutral</th>\n",
       "      <td>273</td>\n",
       "    </tr>\n",
       "    <tr>\n",
       "      <th>positive</th>\n",
       "      <td>447</td>\n",
       "    </tr>\n",
       "  </tbody>\n",
       "</table>\n",
       "</div>"
      ],
      "text/plain": [
       "         content\n",
       "           count\n",
       "label           \n",
       "negative     118\n",
       "neutral      273\n",
       "positive     447"
      ]
     },
     "execution_count": 22,
     "metadata": {},
     "output_type": "execute_result"
    }
   ],
   "source": [
    "df_crawled[['label','content']].groupby(['label']).agg(['count'])"
   ]
  },
  {
   "cell_type": "code",
   "execution_count": 23,
   "metadata": {},
   "outputs": [
    {
     "data": {
      "text/plain": [
       "<AxesSubplot:xlabel='label', ylabel='count'>"
      ]
     },
     "execution_count": 23,
     "metadata": {},
     "output_type": "execute_result"
    },
    {
     "data": {
      "image/png": "[encoded data removed]",
      "text/plain": [
       "<Figure size 432x288 with 1 Axes>"
      ]
     },
     "metadata": {},
     "output_type": "display_data"
    }
   ],
   "source": [
    "sns.set_theme(style = 'darkgrid')\n",
    "sns.countplot(x = 'label', data = df_crawled)"
   ]
  },
  {
   "cell_type": "code",
   "execution_count": 24,
   "metadata": {},
   "outputs": [],
   "source": [
    "df = pd.concat([df_orignal,df_crawled])"
   ]
  },
  {
   "cell_type": "code",
   "execution_count": 25,
   "metadata": {},
   "outputs": [
    {
     "data": {
      "text/plain": [
       "label      5684\n",
       "content    5684\n",
       "dtype: int64"
      ]
     },
     "execution_count": 25,
     "metadata": {},
     "output_type": "execute_result"
    }
   ],
   "source": [
    "df.count()"
   ]
  },
  {
   "cell_type": "code",
   "execution_count": 26,
   "metadata": {},
   "outputs": [],
   "source": [
    "from sklearn.utils import shuffle\n",
    "df = shuffle(df)\n",
    "df = df.reset_index()"
   ]
  },
  {
   "cell_type": "code",
   "execution_count": 27,
   "metadata": {},
   "outputs": [
    {
     "data": {
      "text/html": [
       "<div>\n",
       "<style scoped>\n",
       "    .dataframe tbody tr th:only-of-type {\n",
       "        vertical-align: middle;\n",
       "    }\n",
       "\n",
       "    .dataframe tbody tr th {\n",
       "        vertical-align: top;\n",
       "    }\n",
       "\n",
       "    .dataframe thead tr th {\n",
       "        text-align: left;\n",
       "    }\n",
       "\n",
       "    .dataframe thead tr:last-of-type th {\n",
       "        text-align: right;\n",
       "    }\n",
       "</style>\n",
       "<table border=\"1\" class=\"dataframe\">\n",
       "  <thead>\n",
       "    <tr>\n",
       "      <th></th>\n",
       "      <th>content</th>\n",
       "    </tr>\n",
       "    <tr>\n",
       "      <th></th>\n",
       "      <th>count</th>\n",
       "    </tr>\n",
       "    <tr>\n",
       "      <th>label</th>\n",
       "      <th></th>\n",
       "    </tr>\n",
       "  </thead>\n",
       "  <tbody>\n",
       "    <tr>\n",
       "      <th>negative</th>\n",
       "      <td>722</td>\n",
       "    </tr>\n",
       "    <tr>\n",
       "      <th>neutral</th>\n",
       "      <td>3152</td>\n",
       "    </tr>\n",
       "    <tr>\n",
       "      <th>positive</th>\n",
       "      <td>1810</td>\n",
       "    </tr>\n",
       "  </tbody>\n",
       "</table>\n",
       "</div>"
      ],
      "text/plain": [
       "         content\n",
       "           count\n",
       "label           \n",
       "negative     722\n",
       "neutral     3152\n",
       "positive    1810"
      ]
     },
     "execution_count": 27,
     "metadata": {},
     "output_type": "execute_result"
    }
   ],
   "source": [
    "results = df[['label','content']].groupby(['label']).agg(['count'])\n",
    "results"
   ]
  },
  {
   "cell_type": "code",
   "execution_count": 28,
   "metadata": {},
   "outputs": [
    {
     "data": {
      "text/html": [
       "<div>\n",
       "<style scoped>\n",
       "    .dataframe tbody tr th:only-of-type {\n",
       "        vertical-align: middle;\n",
       "    }\n",
       "\n",
       "    .dataframe tbody tr th {\n",
       "        vertical-align: top;\n",
       "    }\n",
       "\n",
       "    .dataframe thead th {\n",
       "        text-align: right;\n",
       "    }\n",
       "</style>\n",
       "<table border=\"1\" class=\"dataframe\">\n",
       "  <thead>\n",
       "    <tr style=\"text-align: right;\">\n",
       "      <th></th>\n",
       "      <th>index</th>\n",
       "      <th>label</th>\n",
       "      <th>content</th>\n",
       "    </tr>\n",
       "  </thead>\n",
       "  <tbody>\n",
       "    <tr>\n",
       "      <th>0</th>\n",
       "      <td>2213</td>\n",
       "      <td>neutral</td>\n",
       "      <td>The company also said that its board of direct...</td>\n",
       "    </tr>\n",
       "    <tr>\n",
       "      <th>1</th>\n",
       "      <td>1823</td>\n",
       "      <td>positive</td>\n",
       "      <td>`` We are delighted to welcome Elisa to our Bo...</td>\n",
       "    </tr>\n",
       "    <tr>\n",
       "      <th>2</th>\n",
       "      <td>425</td>\n",
       "      <td>neutral</td>\n",
       "      <td>Jan 4 (Reuters) - Media giant ViacomCBS Inc VI...</td>\n",
       "    </tr>\n",
       "    <tr>\n",
       "      <th>3</th>\n",
       "      <td>1616</td>\n",
       "      <td>neutral</td>\n",
       "      <td>The board of directors also proposed that a di...</td>\n",
       "    </tr>\n",
       "    <tr>\n",
       "      <th>4</th>\n",
       "      <td>1544</td>\n",
       "      <td>positive</td>\n",
       "      <td>It also has strong assets in electronic media ...</td>\n",
       "    </tr>\n",
       "  </tbody>\n",
       "</table>\n",
       "</div>"
      ],
      "text/plain": [
       "   index     label                                            content\n",
       "0   2213   neutral  The company also said that its board of direct...\n",
       "1   1823  positive  `` We are delighted to welcome Elisa to our Bo...\n",
       "2    425   neutral  Jan 4 (Reuters) - Media giant ViacomCBS Inc VI...\n",
       "3   1616   neutral  The board of directors also proposed that a di...\n",
       "4   1544  positive  It also has strong assets in electronic media ..."
      ]
     },
     "execution_count": 28,
     "metadata": {},
     "output_type": "execute_result"
    }
   ],
   "source": [
    "df.head()"
   ]
  },
  {
   "cell_type": "code",
   "execution_count": 29,
   "metadata": {},
   "outputs": [
    {
     "data": {
      "text/plain": [
       "<AxesSubplot:xlabel='label', ylabel='count'>"
      ]
     },
     "execution_count": 29,
     "metadata": {},
     "output_type": "execute_result"
    },
    {
     "data": {
      "image/png": "[encoded data removed]",
      "text/plain": [
       "<Figure size 432x288 with 1 Axes>"
      ]
     },
     "metadata": {},
     "output_type": "display_data"
    }
   ],
   "source": [
    "sns.set_theme(style = 'darkgrid')\n",
    "sns.countplot(x = 'label', data = df)"
   ]
  },
  {
   "cell_type": "code",
   "execution_count": 30,
   "metadata": {},
   "outputs": [
    {
     "name": "stdout",
     "output_type": "stream",
     "text": [
      "<class 'pandas.core.frame.DataFrame'>\n",
      "RangeIndex: 5684 entries, 0 to 5683\n",
      "Data columns (total 3 columns):\n",
      " #   Column   Non-Null Count  Dtype \n",
      "---  ------   --------------  ----- \n",
      " 0   index    5684 non-null   int64 \n",
      " 1   label    5684 non-null   object\n",
      " 2   content  5684 non-null   object\n",
      "dtypes: int64(1), object(2)\n",
      "memory usage: 133.3+ KB\n"
     ]
    }
   ],
   "source": [
    "df.info()"
   ]
  },
  {
   "cell_type": "code",
   "execution_count": 31,
   "metadata": {},
   "outputs": [
    {
     "data": {
      "text/html": [
       "<div>\n",
       "<style scoped>\n",
       "    .dataframe tbody tr th:only-of-type {\n",
       "        vertical-align: middle;\n",
       "    }\n",
       "\n",
       "    .dataframe tbody tr th {\n",
       "        vertical-align: top;\n",
       "    }\n",
       "\n",
       "    .dataframe thead th {\n",
       "        text-align: right;\n",
       "    }\n",
       "</style>\n",
       "<table border=\"1\" class=\"dataframe\">\n",
       "  <thead>\n",
       "    <tr style=\"text-align: right;\">\n",
       "      <th></th>\n",
       "      <th>index</th>\n",
       "      <th>label</th>\n",
       "      <th>content</th>\n",
       "    </tr>\n",
       "  </thead>\n",
       "  <tbody>\n",
       "    <tr>\n",
       "      <th>0</th>\n",
       "      <td>2213</td>\n",
       "      <td>neutral</td>\n",
       "      <td>The company also said that its board of direct...</td>\n",
       "    </tr>\n",
       "    <tr>\n",
       "      <th>1</th>\n",
       "      <td>1823</td>\n",
       "      <td>positive</td>\n",
       "      <td>`` We are delighted to welcome Elisa to our Bo...</td>\n",
       "    </tr>\n",
       "    <tr>\n",
       "      <th>2</th>\n",
       "      <td>425</td>\n",
       "      <td>neutral</td>\n",
       "      <td>Jan 4 (Reuters) - Media giant ViacomCBS Inc VI...</td>\n",
       "    </tr>\n",
       "    <tr>\n",
       "      <th>3</th>\n",
       "      <td>1616</td>\n",
       "      <td>neutral</td>\n",
       "      <td>The board of directors also proposed that a di...</td>\n",
       "    </tr>\n",
       "    <tr>\n",
       "      <th>4</th>\n",
       "      <td>1544</td>\n",
       "      <td>positive</td>\n",
       "      <td>It also has strong assets in electronic media ...</td>\n",
       "    </tr>\n",
       "    <tr>\n",
       "      <th>...</th>\n",
       "      <td>...</td>\n",
       "      <td>...</td>\n",
       "      <td>...</td>\n",
       "    </tr>\n",
       "    <tr>\n",
       "      <th>5679</th>\n",
       "      <td>700</td>\n",
       "      <td>negative</td>\n",
       "      <td>Profit before taxes decreased to EUR 31.6 mn f...</td>\n",
       "    </tr>\n",
       "    <tr>\n",
       "      <th>5680</th>\n",
       "      <td>1558</td>\n",
       "      <td>neutral</td>\n",
       "      <td>The fine print is here .</td>\n",
       "    </tr>\n",
       "    <tr>\n",
       "      <th>5681</th>\n",
       "      <td>1236</td>\n",
       "      <td>neutral</td>\n",
       "      <td>Glaston 's well-known brands are Bavelloni , i...</td>\n",
       "    </tr>\n",
       "    <tr>\n",
       "      <th>5682</th>\n",
       "      <td>782</td>\n",
       "      <td>positive</td>\n",
       "      <td>Thanksto improvements in demand and the adjust...</td>\n",
       "    </tr>\n",
       "    <tr>\n",
       "      <th>5683</th>\n",
       "      <td>110</td>\n",
       "      <td>positive</td>\n",
       "      <td>Net sales grew in the period to  x20ac 402 mil...</td>\n",
       "    </tr>\n",
       "  </tbody>\n",
       "</table>\n",
       "<p>5684 rows × 3 columns</p>\n",
       "</div>"
      ],
      "text/plain": [
       "      index     label                                            content\n",
       "0      2213   neutral  The company also said that its board of direct...\n",
       "1      1823  positive  `` We are delighted to welcome Elisa to our Bo...\n",
       "2       425   neutral  Jan 4 (Reuters) - Media giant ViacomCBS Inc VI...\n",
       "3      1616   neutral  The board of directors also proposed that a di...\n",
       "4      1544  positive  It also has strong assets in electronic media ...\n",
       "...     ...       ...                                                ...\n",
       "5679    700  negative  Profit before taxes decreased to EUR 31.6 mn f...\n",
       "5680   1558   neutral                           The fine print is here .\n",
       "5681   1236   neutral  Glaston 's well-known brands are Bavelloni , i...\n",
       "5682    782  positive  Thanksto improvements in demand and the adjust...\n",
       "5683    110  positive  Net sales grew in the period to  x20ac 402 mil...\n",
       "\n",
       "[5684 rows x 3 columns]"
      ]
     },
     "execution_count": 31,
     "metadata": {},
     "output_type": "execute_result"
    }
   ],
   "source": [
    "df"
   ]
  },
  {
   "cell_type": "code",
   "execution_count": 32,
   "metadata": {},
   "outputs": [
    {
     "data": {
      "text/plain": [
       "<pymongo.results.InsertManyResult at 0x7f91c0e96980>"
      ]
     },
     "execution_count": 32,
     "metadata": {},
     "output_type": "execute_result"
    }
   ],
   "source": [
    "## Importing this data to  NoSQl\n",
    "import_data = df.reset_index()\n",
    "data_dict = df.to_dict('records')\n",
    "client = MongoClient('mongodb://localhost:27017')\n",
    "db = client['sentiment_analysis']\n",
    "data = db['final_data_sentiment']\n",
    "data.insert_many(data_dict)"
   ]
  },
  {
   "cell_type": "code",
   "execution_count": 33,
   "metadata": {},
   "outputs": [
    {
     "data": {
      "text/plain": [
       "<AxesSubplot:xlabel='label', ylabel='count'>"
      ]
     },
     "execution_count": 33,
     "metadata": {},
     "output_type": "execute_result"
    },
    {
     "data": {
      "image/png": "[encoded data removed]",
      "text/plain": [
       "<Figure size 432x288 with 1 Axes>"
      ]
     },
     "metadata": {},
     "output_type": "display_data"
    }
   ],
   "source": [
    "sns.set_theme(style = 'darkgrid')\n",
    "sns.countplot(x = 'label', data = df_orignal)"
   ]
  },
  {
   "cell_type": "code",
   "execution_count": 34,
   "metadata": {},
   "outputs": [],
   "source": [
    "sentiment  = {'positive': 0,'neutral': 1,'negative':2} \n",
    "df_orignal.loc[df_orignal.label == 'negative' ,'label'] = 2\n",
    "df_orignal.loc[df_orignal.label == 'neutral' ,'label'] = 1\n",
    "df_orignal.loc[df_orignal.label == 'positive' ,'label'] = 0"
   ]
  },
  {
   "cell_type": "code",
   "execution_count": 35,
   "metadata": {},
   "outputs": [
    {
     "data": {
      "text/html": [
       "<div>\n",
       "<style scoped>\n",
       "    .dataframe tbody tr th:only-of-type {\n",
       "        vertical-align: middle;\n",
       "    }\n",
       "\n",
       "    .dataframe tbody tr th {\n",
       "        vertical-align: top;\n",
       "    }\n",
       "\n",
       "    .dataframe thead th {\n",
       "        text-align: right;\n",
       "    }\n",
       "</style>\n",
       "<table border=\"1\" class=\"dataframe\">\n",
       "  <thead>\n",
       "    <tr style=\"text-align: right;\">\n",
       "      <th></th>\n",
       "      <th>label</th>\n",
       "      <th>content</th>\n",
       "    </tr>\n",
       "  </thead>\n",
       "  <tbody>\n",
       "    <tr>\n",
       "      <th>0</th>\n",
       "      <td>1</td>\n",
       "      <td>According to Gran , the company has no plans t...</td>\n",
       "    </tr>\n",
       "    <tr>\n",
       "      <th>1</th>\n",
       "      <td>2</td>\n",
       "      <td>The international electronic industry company ...</td>\n",
       "    </tr>\n",
       "    <tr>\n",
       "      <th>2</th>\n",
       "      <td>1</td>\n",
       "      <td>Technopolis plans to develop in stages an area...</td>\n",
       "    </tr>\n",
       "    <tr>\n",
       "      <th>3</th>\n",
       "      <td>0</td>\n",
       "      <td>According to the company 's updated strategy f...</td>\n",
       "    </tr>\n",
       "    <tr>\n",
       "      <th>4</th>\n",
       "      <td>0</td>\n",
       "      <td>With the new production plant the company woul...</td>\n",
       "    </tr>\n",
       "    <tr>\n",
       "      <th>...</th>\n",
       "      <td>...</td>\n",
       "      <td>...</td>\n",
       "    </tr>\n",
       "    <tr>\n",
       "      <th>4841</th>\n",
       "      <td>2</td>\n",
       "      <td>The company said that its comparable operating...</td>\n",
       "    </tr>\n",
       "    <tr>\n",
       "      <th>4842</th>\n",
       "      <td>1</td>\n",
       "      <td>Rinkuskiai 's beer sales fell by 6.5 per cent ...</td>\n",
       "    </tr>\n",
       "    <tr>\n",
       "      <th>4843</th>\n",
       "      <td>2</td>\n",
       "      <td>Operating profit fell to EUR 35.4 mn from EUR ...</td>\n",
       "    </tr>\n",
       "    <tr>\n",
       "      <th>4844</th>\n",
       "      <td>2</td>\n",
       "      <td>Net sales of the Paper segment decreased to EU...</td>\n",
       "    </tr>\n",
       "    <tr>\n",
       "      <th>4845</th>\n",
       "      <td>2</td>\n",
       "      <td>Sales in Finland decreased by 10.5 % in Januar...</td>\n",
       "    </tr>\n",
       "  </tbody>\n",
       "</table>\n",
       "<p>4846 rows × 2 columns</p>\n",
       "</div>"
      ],
      "text/plain": [
       "     label                                            content\n",
       "0        1  According to Gran , the company has no plans t...\n",
       "1        2  The international electronic industry company ...\n",
       "2        1  Technopolis plans to develop in stages an area...\n",
       "3        0  According to the company 's updated strategy f...\n",
       "4        0  With the new production plant the company woul...\n",
       "...    ...                                                ...\n",
       "4841     2  The company said that its comparable operating...\n",
       "4842     1  Rinkuskiai 's beer sales fell by 6.5 per cent ...\n",
       "4843     2  Operating profit fell to EUR 35.4 mn from EUR ...\n",
       "4844     2  Net sales of the Paper segment decreased to EU...\n",
       "4845     2  Sales in Finland decreased by 10.5 % in Januar...\n",
       "\n",
       "[4846 rows x 2 columns]"
      ]
     },
     "execution_count": 35,
     "metadata": {},
     "output_type": "execute_result"
    }
   ],
   "source": [
    "df_orignal"
   ]
  },
  {
   "cell_type": "code",
   "execution_count": 36,
   "metadata": {},
   "outputs": [],
   "source": [
    "def cleanText(text):\n",
    "    text = BeautifulSoup(text, \"html.parser\").text\n",
    "    text = re.sub(r'\\|\\|\\|', r' ', text) \n",
    "    text = re.sub(r'http\\S+', r'<URL>', text)\n",
    "    text = text.lower()\n",
    "    text = text.replace('x', '')\n",
    "    return text"
   ]
  },
  {
   "cell_type": "code",
   "execution_count": 37,
   "metadata": {},
   "outputs": [],
   "source": [
    "df_orignal['content'] = df_orignal['content'].apply(lambda x : cleanText(x))"
   ]
  },
  {
   "cell_type": "code",
   "execution_count": 38,
   "metadata": {},
   "outputs": [],
   "source": [
    "train, test = train_test_split(df_orignal, test_size=0.000001)"
   ]
  },
  {
   "cell_type": "code",
   "execution_count": 39,
   "metadata": {},
   "outputs": [],
   "source": [
    "import nltk\n",
    "from nltk.corpus import stopwords\n",
    "def tokenize_text(text):\n",
    "    tokens = [words.lower() for sentences in nltk.sent_tokenize(text) for words in nltk.word_tokenize(sentences) if len(words) !=0   ]\n",
    "    return tokens"
   ]
  },
  {
   "cell_type": "code",
   "execution_count": 40,
   "metadata": {},
   "outputs": [],
   "source": [
    "train_tagged = train.apply(\n",
    "    lambda r: TaggedDocument(words=tokenize_text(r['content']), tags=[r.label]), axis=1)\n",
    "test_tagged = test.apply(\n",
    "    lambda r: TaggedDocument(words=tokenize_text(r['content']), tags=[r.label]), axis=1)"
   ]
  },
  {
   "cell_type": "code",
   "execution_count": 41,
   "metadata": {},
   "outputs": [],
   "source": [
    "# maximum number of words in each content/article.\n",
    "MAX_SEQUENCE_LENGTH = 50\n",
    "\n",
    "tokenizer = Tokenizer(num_words=700000, split=' ', filters='!\"#$%&()*+,-./:;<=>?@[\\]^_`{|}~', lower=True)\n",
    "tokenizer.fit_on_texts(df_orignal['content'].values)\n",
    "X = tokenizer.texts_to_sequences(df_orignal['content'].values)\n",
    "X = pad_sequences(X)"
   ]
  },
  {
   "cell_type": "code",
   "execution_count": 42,
   "metadata": {},
   "outputs": [
    {
     "data": {
      "text/plain": [
       "(4846, 71)"
      ]
     },
     "execution_count": 42,
     "metadata": {},
     "output_type": "execute_result"
    }
   ],
   "source": [
    "X.shape"
   ]
  },
  {
   "cell_type": "code",
   "execution_count": 43,
   "metadata": {},
   "outputs": [
    {
     "name": "stdout",
     "output_type": "stream",
     "text": [
      "Shape of data tensor: (4846, 50)\n"
     ]
    },
    {
     "data": {
      "text/plain": [
       "array([[   0,    0,    0, ...,   11,   10,  746],\n",
       "       [   0,    0,    0, ...,  875, 5005,  251],\n",
       "       [   0,    0,    0, ...,    1,  928,   20],\n",
       "       ...,\n",
       "       [   0,    0,    0, ...,  129,   38,   23],\n",
       "       [   0,    0,    0, ...,   57,   54,   23],\n",
       "       [   0,    0,    0, ...,  961,   18,  295]], dtype=int32)"
      ]
     },
     "execution_count": 43,
     "metadata": {},
     "output_type": "execute_result"
    }
   ],
   "source": [
    "X = tokenizer.texts_to_sequences(df_orignal['content'].values)\n",
    "X = pad_sequences(X, maxlen=MAX_SEQUENCE_LENGTH)\n",
    "print('Shape of data tensor:', X.shape)\n",
    "X"
   ]
  },
  {
   "cell_type": "code",
   "execution_count": 44,
   "metadata": {},
   "outputs": [
    {
     "data": {
      "text/plain": [
       "array([TaggedDocument(words=['to', 'raise', 'consumer', 'awareness', 'and', 'encourage', 'people', 'to', 'recycle', 'their', 'old', 'mobile', 'devices', 'nokia', 'runs', 'regular', 'recycling', 'campaigns', 'around', 'the', 'world', '.'], tags=[1]),\n",
       "       TaggedDocument(words=['bluewin', 'security', 'is', 'available', 'as', 'a', 'monthly', 'subscription', '.'], tags=[1]),\n",
       "       TaggedDocument(words=['this', 'pc', 'application', 'allows', 'users', 'to', 'copy', 'files', 'and', 'other', 'data', 'from', 'their', 'nokia', 'mobile', 'device', 'to', 'their', 'computer', 'as', 'well', 'as', 'create', 'backup', 'content', '.'], tags=[1]),\n",
       "       ...,\n",
       "       TaggedDocument(words=['finnish', 'investor', 'scanfil', 'oyj', '(', 'hel', ':', 'scf1v', ')', 'said', 'last', 'friday', 'it', 'has', 'bought', '57', 'million', 'shares', ',', 'or', '32.96', '%', ',', 'in', 'norwegian', 'contract', 'electronics', 'manufacturer', 'kitron', 'asa', '(', 'osl', ':', 'kit', ')', 'for', 'nok', '143.9', 'million', '(', 'usd', '24.4', 'm-eur', '18.1', 'm', ')', '.'], tags=[1]),\n",
       "       TaggedDocument(words=['employees', 'are', 'also', 'better', 'prepared', 'to', 'answer', 'calls', ',', 'since', 'they', 'already', 'have', 'detailed', 'information', 'about', 'the', 'caller', 'before', 'they', 'answer', 'the', 'phone', '.', '``'], tags=[0]),\n",
       "       TaggedDocument(words=['shares', 'of', 'standard', 'chartered', '(', 'stan', ')', 'rose', '1.2', '%', 'in', 'the', 'ftse', '100', ',', 'while', 'royal', 'bank', 'of', 'scotland', '(', 'rbs', ')', 'shares', 'rose', '2', '%', 'and', 'barclays', 'shares', '(', 'barc', ')', '(', 'bcs', ')', 'were', 'up', '1.7', '%', '.'], tags=[0])],\n",
       "      dtype=object)"
      ]
     },
     "execution_count": 44,
     "metadata": {},
     "output_type": "execute_result"
    }
   ],
   "source": [
    "train_tagged.values"
   ]
  },
  {
   "cell_type": "code",
   "execution_count": 45,
   "metadata": {},
   "outputs": [
    {
     "name": "stderr",
     "output_type": "stream",
     "text": [
      "/home/sunbeam/anaconda3/envs/FinalProject/lib/python3.8/site-packages/gensim/models/doc2vec.py:319: UserWarning: The parameter `size` is deprecated, will be removed in 4.0.0, use `vector_size` instead.\n",
      "  warnings.warn(\"The parameter `size` is deprecated, will be removed in 4.0.0, use `vector_size` instead.\")\n",
      "100%|██████████| 4845/4845 [00:00<00:00, 538272.53it/s]\n"
     ]
    }
   ],
   "source": [
    "d2v_model = Doc2Vec(dm=1, dm_mean=1, size=20, window=8, min_count=1, workers=1, alpha=0.065, min_alpha=0.065)\n",
    "d2v_model.build_vocab([x for x in tqdm(train_tagged.values)])"
   ]
  },
  {
   "cell_type": "code",
   "execution_count": 46,
   "metadata": {},
   "outputs": [
    {
     "name": "stderr",
     "output_type": "stream",
     "text": [
      "100%|██████████| 4845/4845 [00:00<00:00, 1381468.58it/s]\n",
      "100%|██████████| 4845/4845 [00:00<00:00, 2679509.87it/s]\n",
      "100%|██████████| 4845/4845 [00:00<00:00, 2527537.67it/s]\n",
      "100%|██████████| 4845/4845 [00:00<00:00, 2133704.63it/s]\n",
      "100%|██████████| 4845/4845 [00:00<00:00, 2483368.31it/s]\n",
      "100%|██████████| 4845/4845 [00:00<00:00, 2655004.30it/s]\n",
      "100%|██████████| 4845/4845 [00:00<00:00, 2862169.42it/s]\n",
      "100%|██████████| 4845/4845 [00:00<00:00, 2739471.94it/s]\n",
      "100%|██████████| 4845/4845 [00:00<00:00, 2801020.38it/s]\n",
      "100%|██████████| 4845/4845 [00:00<00:00, 1216704.76it/s]\n",
      "100%|██████████| 4845/4845 [00:00<00:00, 1544179.55it/s]\n",
      "100%|██████████| 4845/4845 [00:00<00:00, 2627541.10it/s]\n",
      "100%|██████████| 4845/4845 [00:00<00:00, 1558150.81it/s]\n",
      "100%|██████████| 4845/4845 [00:00<00:00, 2610663.27it/s]\n",
      "100%|██████████| 4845/4845 [00:00<00:00, 2061830.65it/s]\n",
      "100%|██████████| 4845/4845 [00:00<00:00, 1388168.79it/s]\n",
      "100%|██████████| 4845/4845 [00:00<00:00, 1216413.44it/s]\n",
      "100%|██████████| 4845/4845 [00:00<00:00, 2750595.95it/s]\n",
      "100%|██████████| 4845/4845 [00:00<00:00, 1636842.76it/s]\n",
      "100%|██████████| 4845/4845 [00:00<00:00, 1807150.10it/s]\n",
      "100%|██████████| 4845/4845 [00:00<00:00, 2362404.43it/s]\n",
      "100%|██████████| 4845/4845 [00:00<00:00, 1350887.65it/s]\n",
      "100%|██████████| 4845/4845 [00:00<00:00, 1891418.73it/s]\n",
      "100%|██████████| 4845/4845 [00:00<00:00, 2745764.48it/s]\n",
      "100%|██████████| 4845/4845 [00:00<00:00, 1722006.85it/s]\n",
      "100%|██████████| 4845/4845 [00:00<00:00, 1629100.76it/s]\n",
      "100%|██████████| 4845/4845 [00:00<00:00, 2921840.82it/s]\n",
      "100%|██████████| 4845/4845 [00:00<00:00, 1400992.96it/s]\n",
      "100%|██████████| 4845/4845 [00:00<00:00, 1398197.53it/s]\n",
      "100%|██████████| 4845/4845 [00:00<00:00, 1535313.00it/s]\n"
     ]
    }
   ],
   "source": [
    "for epoch in range(30):\n",
    "    d2v_model.train(utils.shuffle([x for x in tqdm(train_tagged.values)]), total_examples=len(train_tagged.values), epochs=1)\n",
    "    d2v_model.alpha -= 0.002\n",
    "    d2v_model.min_alpha = d2v_model.alpha"
   ]
  },
  {
   "cell_type": "code",
   "execution_count": 47,
   "metadata": {},
   "outputs": [
    {
     "name": "stdout",
     "output_type": "stream",
     "text": [
      "[-4.947864   -3.4131618  -1.511144    2.578463   -0.9547782   6.1803837\n",
      " -4.2954264   2.301165    0.4313096  -4.8369994  -0.67284596 -1.5662407\n",
      " -7.567839    4.0707145   6.261236    3.8266735   2.4871726  -3.3369637\n",
      " -4.762957    3.3090012 ]\n",
      "[-3.4859293  -1.6699038   1.3040285  -1.5394145   2.3333714   1.551482\n",
      "  3.314991   -0.6250515   1.5844711  -1.199492    4.5319424  -1.8341707\n",
      "  3.712625    3.273756    0.56078964  2.816525    1.5393033   5.5444117\n",
      "  4.8487635  -0.3063976 ]\n",
      "[-3.6991394  -3.0188396  -7.17932     2.3988383   8.5704565   6.137177\n",
      " -0.5367055  -9.127294    0.9669816  -0.15506572  5.988569    2.884322\n",
      "  9.118181   -2.8873186   4.8813586  -0.01835752 -2.2048576  -5.9433894\n",
      " -1.0533581  -3.4842098 ]\n"
     ]
    }
   ],
   "source": [
    "d2v_model\n",
    "embedding_matrix = np.zeros((len(d2v_model.wv.vocab)+ 1, 20))\n",
    "\n",
    "for i, vec in enumerate(d2v_model.docvecs.vectors_docs):\n",
    "    while i in vec <= 1000:\n",
    "          embedding_matrix[i]=vec\n",
    "    print(vec)"
   ]
  },
  {
   "cell_type": "code",
   "execution_count": 48,
   "metadata": {},
   "outputs": [
    {
     "name": "stdout",
     "output_type": "stream",
     "text": [
      "[('loss', 0.9143661260604858), ('sales', 0.8183176517486572), ('larger-than-epected', 0.8042643666267395), ('income', 0.7908720970153809), ('turnover', 0.7415345907211304), ('profits', 0.7341822981834412), ('58.7', 0.6911219358444214), ('j.', 0.6858500242233276), ('12.9', 0.6818443536758423), ('73,297', 0.6656666994094849)]\n",
      "[('organization', 0.7860656976699829), ('syndicated', 0.721613883972168), ('skogster', 0.7153177261352539), ('pension', 0.7033446431159973), ('buyer', 0.7029633522033691), ('op-pohjola', 0.7014364004135132), ('reserved', 0.668174147605896), ('scanfil', 0.6676497459411621), ('detailing', 0.6676387190818787), ('8,000', 0.6610368490219116)]\n",
      "[('mold', 0.9735038876533508), ('my', 0.8963512182235718), ('pleased', 0.8899655342102051), ('finger-friendly', 0.8541820049285889), ('aptly', 0.8405840396881104), ('warmly', 0.8307619094848633), ('want', 0.82183837890625), (\"'m\", 0.821485161781311), ('perspective', 0.8214435577392578), ('gather', 0.8153660893440247)]\n"
     ]
    }
   ],
   "source": [
    "print(d2v_model.wv.most_similar(positive=['profit'], topn=10))\n",
    "print(d2v_model.wv.most_similar(positive=['investment'], topn=10))\n",
    "print(d2v_model.wv.most_similar(positive=['broke'], topn=10))"
   ]
  },
  {
   "cell_type": "code",
   "execution_count": 49,
   "metadata": {},
   "outputs": [],
   "source": [
    "import matplotlib.pyplot as plt\n",
    "\n",
    "from keras.models import Sequential\n",
    "from keras.layers import LSTM, Dense, Embedding\n",
    "import tensorflow as tf"
   ]
  },
  {
   "cell_type": "code",
   "execution_count": 50,
   "metadata": {},
   "outputs": [
    {
     "name": "stdout",
     "output_type": "stream",
     "text": [
      "Model: \"sequential\"\n",
      "_________________________________________________________________\n",
      "Layer (type)                 Output Shape              Param #   \n",
      "=================================================================\n",
      "embedding (Embedding)        (None, 50, 20)            233520    \n",
      "_________________________________________________________________\n",
      "lstm (LSTM)                  (None, 50)                14200     \n",
      "_________________________________________________________________\n",
      "dense (Dense)                (None, 3)                 153       \n",
      "=================================================================\n",
      "Total params: 247,873\n",
      "Trainable params: 247,873\n",
      "Non-trainable params: 0\n",
      "_________________________________________________________________\n"
     ]
    }
   ],
   "source": [
    "model = Sequential()\n",
    "model.add(Embedding(len(d2v_model.wv.vocab)+1,20,input_length=X.shape[1],weights=[embedding_matrix],trainable=True))\n",
    "\n",
    "#correlations\n",
    "def split_input(sequence):\n",
    "     return sequence[:-1], tf.reshape(sequence[1:], (-1,1))\n",
    "\n",
    "model.add(LSTM(50,return_sequences=False))\n",
    "model.add(Dense(3,activation=\"softmax\"))\n",
    "\n",
    "# output model skeleton\n",
    "model.summary()\n",
    "model.compile(optimizer=\"adam\",loss=\"binary_crossentropy\",metrics=['acc'])\n"
   ]
  },
  {
   "cell_type": "code",
   "execution_count": 51,
   "metadata": {},
   "outputs": [
    {
     "data": {
      "image/png": "[encoded data removed]",
      "text/plain": [
       "<IPython.core.display.Image object>"
      ]
     },
     "execution_count": 51,
     "metadata": {},
     "output_type": "execute_result"
    }
   ],
   "source": [
    "from keras.utils import plot_model\n",
    "plot_model(model, to_file='model.png')"
   ]
  },
  {
   "cell_type": "code",
   "execution_count": 56,
   "metadata": {},
   "outputs": [
    {
     "name": "stdout",
     "output_type": "stream",
     "text": [
      "(4119, 50) (4119, 3)\n",
      "(727, 50) (727, 3)\n"
     ]
    }
   ],
   "source": [
    "Y = pd.get_dummies(df_orignal['label']).values\n",
    "X_train, X_test, Y_train, Y_test = train_test_split(X,Y, test_size = 0.15, random_state = 42)\n",
    "print(X_train.shape,Y_train.shape)\n",
    "print(X_test.shape,Y_test.shape)"
   ]
  },
  {
   "cell_type": "code",
   "execution_count": 57,
   "metadata": {},
   "outputs": [
    {
     "name": "stdout",
     "output_type": "stream",
     "text": [
      "Epoch 1/50\n",
      "129/129 - 3s - loss: 0.5251 - acc: 0.6159\n",
      "Epoch 2/50\n",
      "129/129 - 3s - loss: 0.3796 - acc: 0.7254\n",
      "Epoch 3/50\n",
      "129/129 - 4s - loss: 0.2637 - acc: 0.8145\n",
      "Epoch 4/50\n",
      "129/129 - 5s - loss: 0.1616 - acc: 0.9041\n",
      "Epoch 5/50\n",
      "129/129 - 4s - loss: 0.0884 - acc: 0.9558\n",
      "Epoch 6/50\n",
      "129/129 - 5s - loss: 0.0531 - acc: 0.9762\n",
      "Epoch 7/50\n",
      "129/129 - 4s - loss: 0.0423 - acc: 0.9823\n",
      "Epoch 8/50\n",
      "129/129 - 5s - loss: 0.0283 - acc: 0.9874\n",
      "Epoch 9/50\n",
      "129/129 - 4s - loss: 0.0279 - acc: 0.9886\n",
      "Epoch 10/50\n",
      "129/129 - 4s - loss: 0.0288 - acc: 0.9874\n",
      "Epoch 11/50\n",
      "129/129 - 4s - loss: 0.0195 - acc: 0.9917\n",
      "Epoch 12/50\n",
      "129/129 - 4s - loss: 0.0115 - acc: 0.9949\n",
      "Epoch 13/50\n",
      "129/129 - 3s - loss: 0.0127 - acc: 0.9947\n",
      "Epoch 14/50\n",
      "129/129 - 4s - loss: 0.0139 - acc: 0.9925\n",
      "Epoch 15/50\n",
      "129/129 - 4s - loss: 0.0079 - acc: 0.9968\n",
      "Epoch 16/50\n",
      "129/129 - 3s - loss: 0.0085 - acc: 0.9954\n",
      "Epoch 17/50\n",
      "129/129 - 3s - loss: 0.0090 - acc: 0.9964\n",
      "Epoch 18/50\n",
      "129/129 - 3s - loss: 0.0063 - acc: 0.9978\n",
      "Epoch 19/50\n",
      "129/129 - 4s - loss: 0.0061 - acc: 0.9971\n",
      "Epoch 20/50\n",
      "129/129 - 4s - loss: 0.0221 - acc: 0.9879\n",
      "Epoch 21/50\n",
      "129/129 - 4s - loss: 0.0147 - acc: 0.9927\n",
      "Epoch 22/50\n",
      "129/129 - 5s - loss: 0.0082 - acc: 0.9954\n",
      "Epoch 23/50\n",
      "129/129 - 4s - loss: 0.0078 - acc: 0.9961\n",
      "Epoch 24/50\n",
      "129/129 - 3s - loss: 0.0092 - acc: 0.9954\n",
      "Epoch 25/50\n",
      "129/129 - 3s - loss: 0.0086 - acc: 0.9961\n",
      "Epoch 26/50\n",
      "129/129 - 3s - loss: 0.0059 - acc: 0.9973\n",
      "Epoch 27/50\n",
      "129/129 - 3s - loss: 0.0033 - acc: 0.9985\n",
      "Epoch 28/50\n",
      "129/129 - 3s - loss: 0.0031 - acc: 0.9983\n",
      "Epoch 29/50\n",
      "129/129 - 3s - loss: 0.0041 - acc: 0.9983\n",
      "Epoch 30/50\n",
      "129/129 - 3s - loss: 0.0070 - acc: 0.9964\n",
      "Epoch 31/50\n",
      "129/129 - 3s - loss: 0.0101 - acc: 0.9949\n",
      "Epoch 32/50\n",
      "129/129 - 3s - loss: 0.0041 - acc: 0.9976\n",
      "Epoch 33/50\n",
      "129/129 - 4s - loss: 0.0027 - acc: 0.9981\n",
      "Epoch 34/50\n",
      "129/129 - 3s - loss: 0.0025 - acc: 0.9983\n",
      "Epoch 35/50\n",
      "129/129 - 3s - loss: 0.0024 - acc: 0.9981\n",
      "Epoch 36/50\n",
      "129/129 - 4s - loss: 0.0020 - acc: 0.9985\n",
      "Epoch 37/50\n",
      "129/129 - 5s - loss: 0.0022 - acc: 0.9985\n",
      "Epoch 38/50\n",
      "129/129 - 4s - loss: 0.0024 - acc: 0.9985\n",
      "Epoch 39/50\n",
      "129/129 - 5s - loss: 0.0023 - acc: 0.9983\n",
      "Epoch 40/50\n",
      "129/129 - 3s - loss: 0.0044 - acc: 0.9983\n",
      "Epoch 41/50\n",
      "129/129 - 3s - loss: 0.0035 - acc: 0.9985\n",
      "Epoch 42/50\n",
      "129/129 - 4s - loss: 0.0097 - acc: 0.9961\n",
      "Epoch 43/50\n",
      "129/129 - 3s - loss: 0.0090 - acc: 0.9956\n",
      "Epoch 44/50\n",
      "129/129 - 3s - loss: 0.0040 - acc: 0.9981\n",
      "Epoch 45/50\n",
      "129/129 - 3s - loss: 0.0050 - acc: 0.9971\n",
      "Epoch 46/50\n",
      "129/129 - 6s - loss: 0.0039 - acc: 0.9978\n",
      "Epoch 47/50\n",
      "129/129 - 6s - loss: 0.0065 - acc: 0.9971\n",
      "Epoch 48/50\n",
      "129/129 - 4s - loss: 0.0032 - acc: 0.9983\n",
      "Epoch 49/50\n",
      "129/129 - 4s - loss: 0.0021 - acc: 0.9978\n",
      "Epoch 50/50\n",
      "129/129 - 3s - loss: 0.0029 - acc: 0.9983\n"
     ]
    }
   ],
   "source": [
    "history=model.fit(X_train, Y_train, epochs =50, batch_size=32, verbose = 2)"
   ]
  },
  {
   "cell_type": "code",
   "execution_count": 58,
   "metadata": {},
   "outputs": [
    {
     "data": {
      "image/png": "[encoded data removed]",
      "text/plain": [
       "<Figure size 432x288 with 1 Axes>"
      ]
     },
     "metadata": {},
     "output_type": "display_data"
    },
    {
     "data": {
      "text/plain": [
       "<Figure size 432x288 with 0 Axes>"
      ]
     },
     "metadata": {},
     "output_type": "display_data"
    }
   ],
   "source": [
    "plt.plot(history.history['acc'])\n",
    "plt.title('model accuracy')\n",
    "plt.ylabel('acc')\n",
    "plt.xlabel('epochs')\n",
    "plt.legend(['train', 'test'], loc='upper left')\n",
    "plt.show()\n",
    "plt.savefig('model_accuracy.png')"
   ]
  },
  {
   "cell_type": "code",
   "execution_count": 76,
   "metadata": {},
   "outputs": [
    {
     "data": {
      "image/png": "[encoded data removed]",
      "text/plain": [
       "<Figure size 432x288 with 1 Axes>"
      ]
     },
     "metadata": {},
     "output_type": "display_data"
    },
    {
     "data": {
      "text/plain": [
       "<Figure size 432x288 with 0 Axes>"
      ]
     },
     "metadata": {},
     "output_type": "display_data"
    }
   ],
   "source": [
    "# summarize history for loss\n",
    "plt.plot(history.history['loss'])\n",
    "#plt.plot(history.history['val_loss'])\n",
    "plt.title('model loss')\n",
    "plt.ylabel('loss')\n",
    "plt.xlabel('epochs')\n",
    "plt.legend(['test', 'train'], loc='upper left')\n",
    "plt.show()\n",
    "plt.savefig('model_loss.png')"
   ]
  },
  {
   "cell_type": "code",
   "execution_count": 60,
   "metadata": {},
   "outputs": [
    {
     "name": "stdout",
     "output_type": "stream",
     "text": [
      "129/129 - 1s - loss: 0.0013 - acc: 0.9990\n",
      "23/23 - 0s - loss: 1.2036 - acc: 0.7194\n",
      "Train: 0.999, Test: 0.7194\n"
     ]
    }
   ],
   "source": [
    "# evaluate the model\n",
    "_, train_acc = model.evaluate(X_train, Y_train, verbose=2)\n",
    "_, test_acc = model.evaluate(X_test, Y_test, verbose=2)\n",
    "print('Train: %.3f, Test: %.4f' % (train_acc, test_acc))"
   ]
  },
  {
   "cell_type": "code",
   "execution_count": 64,
   "metadata": {},
   "outputs": [
    {
     "name": "stdout",
     "output_type": "stream",
     "text": [
      "[[1.3610005e-06 9.9999750e-01 1.1893135e-06]\n",
      " [9.2152166e-01 7.6287813e-02 2.1904500e-03]\n",
      " [9.9807990e-01 1.4814080e-03 4.3865346e-04]\n",
      " ...\n",
      " [9.9976689e-01 9.4900512e-05 1.3819260e-04]\n",
      " [9.9995017e-01 2.6362804e-05 2.3486147e-05]\n",
      " [9.9997211e-01 9.1489728e-06 1.8756547e-05]]\n",
      "WARNING:tensorflow:From <ipython-input-64-955b66a6af9a>:6: Sequential.predict_classes (from tensorflow.python.keras.engine.sequential) is deprecated and will be removed after 2021-01-01.\n",
      "Instructions for updating:\n",
      "Please use instead:* `np.argmax(model.predict(x), axis=-1)`,   if your model does multi-class classification   (e.g. if it uses a `softmax` last-layer activation).* `(model.predict(x) > 0.5).astype(\"int32\")`,   if your model does binary classification   (e.g. if it uses a `sigmoid` last-layer activation).\n",
      "[1 0 0 1 1 1 0 1 2 1 1 1 1 1 1 1 1 1 1 1 2 1 0 1 1 1 1 1 1 1 1 1 1 2 0 0 2\n",
      " 0 1 1 0 0 1 1 0 1 1 1 0 1 1 1 0 0 1 1 1 1 1 1 0 0 0 1 0 1 1 1 1 1 0 0 1 1\n",
      " 0 1 1 1 1 0 2 0 0 0 0 1 1 0 0 0 0 1 1 2 1 1 1 1 0 1 1 0 2 0 1 0 0 0 1 2 1\n",
      " 0 2 0 1 0 0 0 0 0 0 1 1 1 1 1 0 1 0 1 2 0 1 1 0 0 1 1 1 0 1 1 0 1 1 1 1 1\n",
      " 1 0 0 0 1 0 0 0 0 1 2 2 0 0 0 2 1 0 1 1 1 1 1 0 0 1 0 0 0 0 0 0 1 0 0 0 1\n",
      " 2 0 2 1 1 0 1 0 0 1 0 2 1 1 1 1 1 2 2 1 0 1 1 0 1 2 1 0 1 2 1 1 0 1 1 1 1\n",
      " 0 0 1 1 1 0 1 2 1 0 1 1 1 1 0 1 2 0 1 1 0 0 0 1 1 1 1 1 1 1 0 1 1 1 1 1 0\n",
      " 1 1 0 1 0 1 1 2 1 1 1 2 1 2 1 2 1 1 1 1 1 1 0 1 2 0 1 1 1 1 1 0 0 2 0 0 1\n",
      " 1 1 0 0 0 1 2 1 1 2 1 0 1 0 1 2 1 1 1 2 1 1 1 1 2 1 0 1 1 1 1 0 1 1 1 1 1\n",
      " 0 0 1 1 1 1 1 1 1 1 1 1 0 2 2 2 1 0 1 0 1 1 1 0 1 2 1 0 1 1 0 0 0 1 1 0 0\n",
      " 0 0 1 0 2 1 1 1 0 1 0 0 2 1 1 1 0 0 0 1 1 1 1 0 1 2 0 1 1 0 1 0 1 0 2 2 0\n",
      " 0 1 0 0 1 0 1 0 2 1 1 1 1 2 1 1 1 0 1 2 1 0 1 1 0 1 1 1 1 1 0 2 1 1 0 1 1\n",
      " 2 1 0 1 1 1 1 2 1 1 1 1 2 0 1 0 1 0 1 1 1 1 0 1 1 2 1 0 1 1 1 1 1 1 1 1 1\n",
      " 0 1 1 2 1 1 1 0 0 1 1 1 0 1 1 1 0 1 1 1 1 1 1 0 1 1 1 1 0 1 1 1 1 0 0 0 1\n",
      " 2 0 1 0 0 1 0 0 1 0 1 1 1 1 0 1 1 2 0 2 1 1 1 1 1 0 1 1 0 0 2 1 1 2 1 1 1\n",
      " 1 2 1 0 1 1 1 1 2 0 0 0 1 2 1 0 1 0 1 1 1 1 1 2 1 1 1 0 1 0 0 1 2 0 1 1 2\n",
      " 0 1 0 1 2 1 2 0 1 0 0 1 0 0 2 1 0 1 0 1 1 0 1 0 1 2 1 0 1 2 1 0 1 2 1 2 0\n",
      " 1 1 0 2 0 0 1 0 0 0 1 1 0 1 1 1 1 0 1 1 1 1 1 0 0 1 2 1 0 1 0 0 1 1 2 1 0\n",
      " 0 0 1 1 1 0 1 1 1 1 1 1 1 2 2 1 1 1 0 2 1 0 0 0 1 0 0 0 0 1 1 1 0 1 0 1 1\n",
      " 1 0 0 0 0 1 1 1 1 1 1 1 1 1 2 0 0 1 1 1 1 0 0 0]\n"
     ]
    }
   ],
   "source": [
    "# predict probabilities for test set\n",
    "yhat_probs = model.predict(X_test, verbose=0)\n",
    "print(yhat_probs)\n",
    "\n",
    "# predict crisp classes for test set\n",
    "yhat_classes = model.predict_classes(X_test, verbose=0)\n",
    "print(yhat_classes)"
   ]
  },
  {
   "cell_type": "code",
   "execution_count": 86,
   "metadata": {},
   "outputs": [],
   "source": [
    "import numpy as np\n",
    "rounded_labels=np.argmax(Y_test, axis=1)"
   ]
  },
  {
   "cell_type": "code",
   "execution_count": 85,
   "metadata": {},
   "outputs": [
    {
     "data": {
      "text/plain": [
       "array([[143,  68,  13],\n",
       "       [ 70, 330,  13],\n",
       "       [ 18,  22,  50]])"
      ]
     },
     "execution_count": 85,
     "metadata": {},
     "output_type": "execute_result"
    }
   ],
   "source": [
    "from sklearn.metrics import confusion_matrix\n",
    "cm = confusion_matrix(rounded_labels, yhat_classes)\n",
    "cm"
   ]
  },
  {
   "cell_type": "code",
   "execution_count": 84,
   "metadata": {},
   "outputs": [
    {
     "data": {
      "image/png": "[encoded data removed]",
      "text/plain": [
       "<Figure size 360x360 with 2 Axes>"
      ]
     },
     "metadata": {},
     "output_type": "display_data"
    }
   ],
   "source": [
    "# The confusion matrix\n",
    "from sklearn.metrics import confusion_matrix\n",
    "import seaborn as sns\n",
    "\n",
    "lstm_val = confusion_matrix(rounded_labels, yhat_classes)\n",
    "f, ax = plt.subplots(figsize=(5,5))\n",
    "sns.heatmap(lstm_val, annot=True)\n",
    "plt.title('LSTM Confusion Matrix')\n",
    "plt.xlabel('Y predict')\n",
    "plt.ylabel('Y test')\n",
    "plt.savefig('confusion_matrix.png')\n",
    "plt.show()"
   ]
  },
  {
   "cell_type": "markdown",
   "metadata": {},
   "source": [
    "## Predicting sentiments on the Crawled Data Now"
   ]
  },
  {
   "cell_type": "code",
   "execution_count": 70,
   "metadata": {},
   "outputs": [],
   "source": [
    "model.save('Mymodel.h5')"
   ]
  },
  {
   "cell_type": "code",
   "execution_count": 71,
   "metadata": {},
   "outputs": [
    {
     "name": "stdout",
     "output_type": "stream",
     "text": [
      "[[0.00522209 0.00666967 0.9881082 ]] 2\n"
     ]
    }
   ],
   "source": [
    "message = ['Shares of digital radio specialist Sirius XM Radio (NASDAQ: SIRI) fell 10.9% in calendar year 2020, according to data from S&P Global Market Intelligence. The stock never made a full recovery from the COVID-19 market panic in March.']\n",
    "seq = tokenizer.texts_to_sequences(message)\n",
    "padded = pad_sequences(seq, maxlen=X.shape[1], dtype='int32', value=0)\n",
    "pred = model.predict(padded)\n",
    "labels = ['0','1','2']\n",
    "print(pred, labels[np.argmax(pred)])"
   ]
  },
  {
   "cell_type": "code",
   "execution_count": 73,
   "metadata": {},
   "outputs": [],
   "source": [
    "df = pd.read_csv('tests_json1.csv')\n",
    "df.dropna(inplace=True)\n",
    "labels = ['0', '1', '2']\n",
    "y = []\n",
    "\n",
    "pd.set_option('display.width', None)\n",
    "pd.set_option('display.max_colwidth', None)\n",
    "pd.set_option(\"display.max_rows\", 999)"
   ]
  },
  {
   "cell_type": "code",
   "execution_count": 74,
   "metadata": {},
   "outputs": [],
   "source": [
    "def sentiment_producer(content):\n",
    "    seq = tokenizer.texts_to_sequences([content])\n",
    "    padded = pad_sequences(seq, maxlen=MAX_SEQUENCE_LENGTH, dtype='int32', value=0)\n",
    "    pred = model.predict(padded)\n",
    "    return labels[np.argmax(pred)]"
   ]
  },
  {
   "cell_type": "code",
   "execution_count": 77,
   "metadata": {},
   "outputs": [],
   "source": [
    "client = MongoClient('mongodb://localhost:27017')\n",
    "db = client['sentiment_analysis']\n",
    "data = db['final_data_sentiment']\n",
    "\n",
    "#LOADING THE TRAINING PART PSUEDO DATA IN pandas From NoSql\n",
    "df_topred = db['crawled_data_pred'].find({},{\"_id\": 0,\"date\" : 1, \"content\" : 1})\n",
    "df_topred = pd.DataFrame(df_topred)"
   ]
  },
  {
   "cell_type": "code",
   "execution_count": 81,
   "metadata": {},
   "outputs": [
    {
     "data": {
      "text/html": [
       "<div>\n",
       "<style scoped>\n",
       "    .dataframe tbody tr th:only-of-type {\n",
       "        vertical-align: middle;\n",
       "    }\n",
       "\n",
       "    .dataframe tbody tr th {\n",
       "        vertical-align: top;\n",
       "    }\n",
       "\n",
       "    .dataframe thead th {\n",
       "        text-align: right;\n",
       "    }\n",
       "</style>\n",
       "<table border=\"1\" class=\"dataframe\">\n",
       "  <thead>\n",
       "    <tr style=\"text-align: right;\">\n",
       "      <th></th>\n",
       "      <th>date</th>\n",
       "      <th>content</th>\n",
       "      <th>sentiments</th>\n",
       "    </tr>\n",
       "  </thead>\n",
       "  <tbody>\n",
       "    <tr>\n",
       "      <th>0</th>\n",
       "      <td>2021-01-13</td>\n",
       "      <td>Walt Disney (NYSE: DIS) blew away all expectations with its Disney+ streaming service, both its own and those of analysts. Subscriber counts the entertainment giant thought it would take years to reach occurred in just months.</td>\n",
       "      <td>1</td>\n",
       "    </tr>\n",
       "    <tr>\n",
       "      <th>1</th>\n",
       "      <td>2021-01-12</td>\n",
       "      <td>Shares of Zomedica Pharmaceuticals (NYSEMKT: ZOM) continued their recent rapid ascent on Tuesday. As of 11:33 a.m. EST, the veterinary health company's stock price is up more than 40%.</td>\n",
       "      <td>0</td>\n",
       "    </tr>\n",
       "    <tr>\n",
       "      <th>2</th>\n",
       "      <td>2021-01-12</td>\n",
       "      <td>Both Netflix (NASDAQ: NFLX) and Amazon (NASDAQ: AMZN) are fantastic companies with bright futures. They've already created a ton of wealth for investors, and both have tons of growth left in their tanks. If you own one of them but not the other, go ahead and fix that error right now. Those who own neither should really pick up both. The only way not to win is not to play, if I may paraphrase WarGames.</td>\n",
       "      <td>0</td>\n",
       "    </tr>\n",
       "    <tr>\n",
       "      <th>3</th>\n",
       "      <td>2021-01-12</td>\n",
       "      <td>InvestorPlace - Stock Market News, Stock Advice &amp; Trading Tips</td>\n",
       "      <td>0</td>\n",
       "    </tr>\n",
       "    <tr>\n",
       "      <th>4</th>\n",
       "      <td>2021-01-11</td>\n",
       "      <td>Three years ago, Amazon (NASDAQ: AMZN), Berkshire Hathaway (NYSE: BRK-A) (NYSE: BRK-B), and JPMorgan Chase (NYSE: JPM) announced a partnership that would end up becoming Haven Healthcare. Now, the partnership (and Haven) is dissolving. Qualcomm (NASDAQ: QCOM) CEO Steve Mollenkopf announces he's leaving after seven years in the corner office. Ron Gross analyzes those stories, and shares thoughts on portfolio allocation as we dip into the Fool mailbag. Plus, we take a moment to reflect on the 10-year anniversary of this podcast.</td>\n",
       "      <td>1</td>\n",
       "    </tr>\n",
       "    <tr>\n",
       "      <th>5</th>\n",
       "      <td>2021-01-12</td>\n",
       "      <td>InvestorPlace - Stock Market News, Stock Advice &amp; Trading Tips</td>\n",
       "      <td>0</td>\n",
       "    </tr>\n",
       "    <tr>\n",
       "      <th>6</th>\n",
       "      <td>2021-01-10</td>\n",
       "      <td>If there was any doubt AT&amp;T (NYSE: T) is moving forward with plans to offer an ad-supported version of HBO Max, they were wiped away earlier this week. Speaking at Citi Global TMT's virtual conference on Jan. 5, CFO John Stephens commented: \"That's what AVOD is going to help us do [with HBO Max]: expand the opportunity to serve customers in a different way.\" He went on to say ad-supported streaming would be a chance to \"amortize the investment in content over a greater customer base.\"</td>\n",
       "      <td>0</td>\n",
       "    </tr>\n",
       "    <tr>\n",
       "      <th>7</th>\n",
       "      <td>2021-01-12</td>\n",
       "      <td>InvestorPlace - Stock Market News, Stock Advice &amp; Trading Tips</td>\n",
       "      <td>0</td>\n",
       "    </tr>\n",
       "    <tr>\n",
       "      <th>8</th>\n",
       "      <td>2021-01-13</td>\n",
       "      <td>BENGALURU, Jan 13 (Reuters) - Amazon.com AMZN.O on Wednesday launched a lower-priced mobile-only subscription plan for its video streaming service in India, undercutting a similar plan by Netflix Inc NFLX.O to woo price-sensitive subscribers.</td>\n",
       "      <td>1</td>\n",
       "    </tr>\n",
       "    <tr>\n",
       "      <th>9</th>\n",
       "      <td>2021-01-13</td>\n",
       "      <td>Walt Disney (NYSE: DIS) blew away all expectations with its Disney+ streaming service, both its own and those of analysts. Subscriber counts the entertainment giant thought it would take years to reach occurred in just months.</td>\n",
       "      <td>1</td>\n",
       "    </tr>\n",
       "    <tr>\n",
       "      <th>10</th>\n",
       "      <td>2021-01-12</td>\n",
       "      <td>InvestorPlace - Stock Market News, Stock Advice &amp; Trading Tips</td>\n",
       "      <td>0</td>\n",
       "    </tr>\n",
       "    <tr>\n",
       "      <th>11</th>\n",
       "      <td>2021-01-12</td>\n",
       "      <td>Shares of Zomedica Pharmaceuticals (NYSEMKT: ZOM) continued their recent rapid ascent on Tuesday. As of 11:33 a.m. EST, the veterinary health company's stock price is up more than 40%.</td>\n",
       "      <td>0</td>\n",
       "    </tr>\n",
       "    <tr>\n",
       "      <th>12</th>\n",
       "      <td>2021-01-12</td>\n",
       "      <td>Both Netflix (NASDAQ: NFLX) and Amazon (NASDAQ: AMZN) are fantastic companies with bright futures. They've already created a ton of wealth for investors, and both have tons of growth left in their tanks. If you own one of them but not the other, go ahead and fix that error right now. Those who own neither should really pick up both. The only way not to win is not to play, if I may paraphrase WarGames.</td>\n",
       "      <td>0</td>\n",
       "    </tr>\n",
       "    <tr>\n",
       "      <th>13</th>\n",
       "      <td>2021-01-12</td>\n",
       "      <td>InvestorPlace - Stock Market News, Stock Advice &amp; Trading Tips</td>\n",
       "      <td>0</td>\n",
       "    </tr>\n",
       "    <tr>\n",
       "      <th>14</th>\n",
       "      <td>2021-01-12</td>\n",
       "      <td>InvestorPlace - Stock Market News, Stock Advice &amp; Trading Tips</td>\n",
       "      <td>0</td>\n",
       "    </tr>\n",
       "    <tr>\n",
       "      <th>15</th>\n",
       "      <td>2021-01-11</td>\n",
       "      <td>Three years ago, Amazon (NASDAQ: AMZN), Berkshire Hathaway (NYSE: BRK-A) (NYSE: BRK-B), and JPMorgan Chase (NYSE: JPM) announced a partnership that would end up becoming Haven Healthcare. Now, the partnership (and Haven) is dissolving. Qualcomm (NASDAQ: QCOM) CEO Steve Mollenkopf announces he's leaving after seven years in the corner office. Ron Gross analyzes those stories, and shares thoughts on portfolio allocation as we dip into the Fool mailbag. Plus, we take a moment to reflect on the 10-year anniversary of this podcast.</td>\n",
       "      <td>1</td>\n",
       "    </tr>\n",
       "    <tr>\n",
       "      <th>16</th>\n",
       "      <td>2021-01-12</td>\n",
       "      <td>InvestorPlace - Stock Market News, Stock Advice &amp; Trading Tips</td>\n",
       "      <td>0</td>\n",
       "    </tr>\n",
       "    <tr>\n",
       "      <th>17</th>\n",
       "      <td>2021-01-12</td>\n",
       "      <td>Shares of Zomedica Pharmaceuticals (NYSEMKT: ZOM) continued their recent rapid ascent on Tuesday. As of 11:33 a.m. EST, the veterinary health company's stock price is up more than 40%.</td>\n",
       "      <td>0</td>\n",
       "    </tr>\n",
       "    <tr>\n",
       "      <th>18</th>\n",
       "      <td>2021-01-12</td>\n",
       "      <td>Both Netflix (NASDAQ: NFLX) and Amazon (NASDAQ: AMZN) are fantastic companies with bright futures. They've already created a ton of wealth for investors, and both have tons of growth left in their tanks. If you own one of them but not the other, go ahead and fix that error right now. Those who own neither should really pick up both. The only way not to win is not to play, if I may paraphrase WarGames.</td>\n",
       "      <td>0</td>\n",
       "    </tr>\n",
       "    <tr>\n",
       "      <th>19</th>\n",
       "      <td>2021-01-12</td>\n",
       "      <td>InvestorPlace - Stock Market News, Stock Advice &amp; Trading Tips</td>\n",
       "      <td>0</td>\n",
       "    </tr>\n",
       "    <tr>\n",
       "      <th>20</th>\n",
       "      <td>2021-01-12</td>\n",
       "      <td>InvestorPlace - Stock Market News, Stock Advice &amp; Trading Tips</td>\n",
       "      <td>0</td>\n",
       "    </tr>\n",
       "    <tr>\n",
       "      <th>21</th>\n",
       "      <td>2021-01-11</td>\n",
       "      <td>Three years ago, Amazon (NASDAQ: AMZN), Berkshire Hathaway (NYSE: BRK-A) (NYSE: BRK-B), and JPMorgan Chase (NYSE: JPM) announced a partnership that would end up becoming Haven Healthcare. Now, the partnership (and Haven) is dissolving. Qualcomm (NASDAQ: QCOM) CEO Steve Mollenkopf announces he's leaving after seven years in the corner office. Ron Gross analyzes those stories, and shares thoughts on portfolio allocation as we dip into the Fool mailbag. Plus, we take a moment to reflect on the 10-year anniversary of this podcast.</td>\n",
       "      <td>1</td>\n",
       "    </tr>\n",
       "    <tr>\n",
       "      <th>22</th>\n",
       "      <td>2021-01-09</td>\n",
       "      <td>In this episode of Rule Breaker Investing, Motley Fool co-founder David Gardner goes through the Fool mailbag, to read about your journeys as investors, your success stories, lessons learned, and reflections on the future. With the new year come new opportunities for growth and optimism.</td>\n",
       "      <td>1</td>\n",
       "    </tr>\n",
       "    <tr>\n",
       "      <th>23</th>\n",
       "      <td>2021-01-09</td>\n",
       "      <td>In this episode of Rule Breaker Investing, Motley Fool co-founder David Gardner goes through the Fool mailbag, to read about your journeys as investors, your success stories, lessons learned, and reflections on the future. With the new year come new opportunities for growth and optimism.</td>\n",
       "      <td>1</td>\n",
       "    </tr>\n",
       "    <tr>\n",
       "      <th>24</th>\n",
       "      <td>2021-01-08</td>\n",
       "      <td>Why should investors be watching 5G, financials, healthcare, and industrials in 2021? Why do Cloudflare (NYSE: NET) and Docusign (NASDAQ: DOCU) have big upside potential? Will Berkshire Hathaway, Etsy (NASDAQ: ETSY), and NBC's Peacock surprise investors in 2021? Will Roblox score a big IPO? Are Marriott International and Match Group poised for a comeback? And how will the cannabis industry fare in the new year? A few Fools tackle those questions, talk about other stocks, and make some reckless predictions about 2021 in this episode of Motley Fool Money.</td>\n",
       "      <td>0</td>\n",
       "    </tr>\n",
       "    <tr>\n",
       "      <th>25</th>\n",
       "      <td>2021-01-08</td>\n",
       "      <td>In this episode of MarketFoolery, Chris Hill is joined by Motley Fool analyst Jason Moser, as Teledyne (NYSE: TDY) announces plans to buy FLIR Systems (NASDAQ: FLIR) in a cash and stock deal worth $8 billion. Roku (NASDAQ: ROKU) is in advanced talks to buy Quibi's entire catalog of content. Jason analyzes those stories, as well as Chipotle's (NYSE: CMG) new \"rice\" offering and the impending launch of McDonald's (NYSE: MCD) much-anticipated crispy chicken sandwich.</td>\n",
       "      <td>0</td>\n",
       "    </tr>\n",
       "    <tr>\n",
       "      <th>26</th>\n",
       "      <td>2021-01-08</td>\n",
       "      <td>Shares of digital radio specialist Sirius XM Radio (NASDAQ: SIRI) fell 10.9% in calendar year 2020, according to data from S&amp;P Global Market Intelligence. The stock never made a full recovery from the COVID-19 market panic in March.</td>\n",
       "      <td>2</td>\n",
       "    </tr>\n",
       "    <tr>\n",
       "      <th>27</th>\n",
       "      <td>2021-01-12</td>\n",
       "      <td>Shares of Zomedica Pharmaceuticals (NYSEMKT: ZOM) continued their recent rapid ascent on Tuesday. As of 11:33 a.m. EST, the veterinary health company's stock price is up more than 40%.</td>\n",
       "      <td>0</td>\n",
       "    </tr>\n",
       "    <tr>\n",
       "      <th>28</th>\n",
       "      <td>2021-01-10</td>\n",
       "      <td>If there was any doubt AT&amp;T (NYSE: T) is moving forward with plans to offer an ad-supported version of HBO Max, they were wiped away earlier this week. Speaking at Citi Global TMT's virtual conference on Jan. 5, CFO John Stephens commented: \"That's what AVOD is going to help us do [with HBO Max]: expand the opportunity to serve customers in a different way.\" He went on to say ad-supported streaming would be a chance to \"amortize the investment in content over a greater customer base.\"</td>\n",
       "      <td>0</td>\n",
       "    </tr>\n",
       "    <tr>\n",
       "      <th>29</th>\n",
       "      <td>2021-01-08</td>\n",
       "      <td>Why should investors be watching 5G, financials, healthcare, and industrials in 2021? Why do Cloudflare (NYSE: NET) and Docusign (NASDAQ: DOCU) have big upside potential? Will Berkshire Hathaway, Etsy (NASDAQ: ETSY), and NBC's Peacock surprise investors in 2021? Will Roblox score a big IPO? Are Marriott International and Match Group poised for a comeback? And how will the cannabis industry fare in the new year? A few Fools tackle those questions, talk about other stocks, and make some reckless predictions about 2021 in this episode of Motley Fool Money.</td>\n",
       "      <td>0</td>\n",
       "    </tr>\n",
       "    <tr>\n",
       "      <th>30</th>\n",
       "      <td>2021-01-12</td>\n",
       "      <td>InvestorPlace - Stock Market News, Stock Advice &amp; Trading Tips</td>\n",
       "      <td>0</td>\n",
       "    </tr>\n",
       "    <tr>\n",
       "      <th>31</th>\n",
       "      <td>2021-01-11</td>\n",
       "      <td>Three years ago, Amazon (NASDAQ: AMZN), Berkshire Hathaway (NYSE: BRK-A) (NYSE: BRK-B), and JPMorgan Chase (NYSE: JPM) announced a partnership that would end up becoming Haven Healthcare. Now, the partnership (and Haven) is dissolving. Qualcomm (NASDAQ: QCOM) CEO Steve Mollenkopf announces he's leaving after seven years in the corner office. Ron Gross analyzes those stories, and shares thoughts on portfolio allocation as we dip into the Fool mailbag. Plus, we take a moment to reflect on the 10-year anniversary of this podcast.</td>\n",
       "      <td>1</td>\n",
       "    </tr>\n",
       "    <tr>\n",
       "      <th>32</th>\n",
       "      <td>2021-01-10</td>\n",
       "      <td>If there was any doubt AT&amp;T (NYSE: T) is moving forward with plans to offer an ad-supported version of HBO Max, they were wiped away earlier this week. Speaking at Citi Global TMT's virtual conference on Jan. 5, CFO John Stephens commented: \"That's what AVOD is going to help us do [with HBO Max]: expand the opportunity to serve customers in a different way.\" He went on to say ad-supported streaming would be a chance to \"amortize the investment in content over a greater customer base.\"</td>\n",
       "      <td>0</td>\n",
       "    </tr>\n",
       "    <tr>\n",
       "      <th>33</th>\n",
       "      <td>2021-01-12</td>\n",
       "      <td>Both Netflix (NASDAQ: NFLX) and Amazon (NASDAQ: AMZN) are fantastic companies with bright futures. They've already created a ton of wealth for investors, and both have tons of growth left in their tanks. If you own one of them but not the other, go ahead and fix that error right now. Those who own neither should really pick up both. The only way not to win is not to play, if I may paraphrase WarGames.</td>\n",
       "      <td>0</td>\n",
       "    </tr>\n",
       "    <tr>\n",
       "      <th>34</th>\n",
       "      <td>2021-01-10</td>\n",
       "      <td>If there was any doubt AT&amp;T (NYSE: T) is moving forward with plans to offer an ad-supported version of HBO Max, they were wiped away earlier this week. Speaking at Citi Global TMT's virtual conference on Jan. 5, CFO John Stephens commented: \"That's what AVOD is going to help us do [with HBO Max]: expand the opportunity to serve customers in a different way.\" He went on to say ad-supported streaming would be a chance to \"amortize the investment in content over a greater customer base.\"</td>\n",
       "      <td>0</td>\n",
       "    </tr>\n",
       "    <tr>\n",
       "      <th>35</th>\n",
       "      <td>2021-01-12</td>\n",
       "      <td>InvestorPlace - Stock Market News, Stock Advice &amp; Trading Tips</td>\n",
       "      <td>0</td>\n",
       "    </tr>\n",
       "    <tr>\n",
       "      <th>36</th>\n",
       "      <td>2021-01-09</td>\n",
       "      <td>In this episode of Rule Breaker Investing, Motley Fool co-founder David Gardner goes through the Fool mailbag, to read about your journeys as investors, your success stories, lessons learned, and reflections on the future. With the new year come new opportunities for growth and optimism.</td>\n",
       "      <td>1</td>\n",
       "    </tr>\n",
       "    <tr>\n",
       "      <th>37</th>\n",
       "      <td>2021-01-08</td>\n",
       "      <td>In this episode of MarketFoolery, Chris Hill is joined by Motley Fool analyst Jason Moser, as Teledyne (NYSE: TDY) announces plans to buy FLIR Systems (NASDAQ: FLIR) in a cash and stock deal worth $8 billion. Roku (NASDAQ: ROKU) is in advanced talks to buy Quibi's entire catalog of content. Jason analyzes those stories, as well as Chipotle's (NYSE: CMG) new \"rice\" offering and the impending launch of McDonald's (NYSE: MCD) much-anticipated crispy chicken sandwich.</td>\n",
       "      <td>0</td>\n",
       "    </tr>\n",
       "    <tr>\n",
       "      <th>38</th>\n",
       "      <td>2021-01-08</td>\n",
       "      <td>Who needs amusement parks when you have the stock market? Investors were taken on a roller coaster ride in 2020 due to the pandemic. After the benchmark S&amp;P 500 lost 34% of its value in roughly a month, it spent the following nine months rocketing higher. The 16% gain the S&amp;P 500 registered for 2020 nearly doubled its average annual return over the last 40 years. Not too bad considering all that transpired.</td>\n",
       "      <td>0</td>\n",
       "    </tr>\n",
       "    <tr>\n",
       "      <th>39</th>\n",
       "      <td>2021-01-12</td>\n",
       "      <td>Both Netflix (NASDAQ: NFLX) and Amazon (NASDAQ: AMZN) are fantastic companies with bright futures. They've already created a ton of wealth for investors, and both have tons of growth left in their tanks. If you own one of them but not the other, go ahead and fix that error right now. Those who own neither should really pick up both. The only way not to win is not to play, if I may paraphrase WarGames.</td>\n",
       "      <td>0</td>\n",
       "    </tr>\n",
       "    <tr>\n",
       "      <th>40</th>\n",
       "      <td>2021-01-12</td>\n",
       "      <td>InvestorPlace - Stock Market News, Stock Advice &amp; Trading Tips</td>\n",
       "      <td>0</td>\n",
       "    </tr>\n",
       "    <tr>\n",
       "      <th>41</th>\n",
       "      <td>2021-01-08</td>\n",
       "      <td>Why should investors be watching 5G, financials, healthcare, and industrials in 2021? Why do Cloudflare (NYSE: NET) and Docusign (NASDAQ: DOCU) have big upside potential? Will Berkshire Hathaway, Etsy (NASDAQ: ETSY), and NBC's Peacock surprise investors in 2021? Will Roblox score a big IPO? Are Marriott International and Match Group poised for a comeback? And how will the cannabis industry fare in the new year? A few Fools tackle those questions, talk about other stocks, and make some reckless predictions about 2021 in this episode of Motley Fool Money.</td>\n",
       "      <td>0</td>\n",
       "    </tr>\n",
       "    <tr>\n",
       "      <th>42</th>\n",
       "      <td>2021-01-12</td>\n",
       "      <td>InvestorPlace - Stock Market News, Stock Advice &amp; Trading Tips</td>\n",
       "      <td>0</td>\n",
       "    </tr>\n",
       "    <tr>\n",
       "      <th>43</th>\n",
       "      <td>2021-01-08</td>\n",
       "      <td>Shares of digital radio specialist Sirius XM Radio (NASDAQ: SIRI) fell 10.9% in calendar year 2020, according to data from S&amp;P Global Market Intelligence. The stock never made a full recovery from the COVID-19 market panic in March.</td>\n",
       "      <td>2</td>\n",
       "    </tr>\n",
       "    <tr>\n",
       "      <th>44</th>\n",
       "      <td>2021-01-11</td>\n",
       "      <td>Three years ago, Amazon (NASDAQ: AMZN), Berkshire Hathaway (NYSE: BRK-A) (NYSE: BRK-B), and JPMorgan Chase (NYSE: JPM) announced a partnership that would end up becoming Haven Healthcare. Now, the partnership (and Haven) is dissolving. Qualcomm (NASDAQ: QCOM) CEO Steve Mollenkopf announces he's leaving after seven years in the corner office. Ron Gross analyzes those stories, and shares thoughts on portfolio allocation as we dip into the Fool mailbag. Plus, we take a moment to reflect on the 10-year anniversary of this podcast.</td>\n",
       "      <td>1</td>\n",
       "    </tr>\n",
       "    <tr>\n",
       "      <th>45</th>\n",
       "      <td>2021-01-08</td>\n",
       "      <td>With a wild 2020 in the books, investors are looking ahead to a new year in which the economy's prospects will largely depend on the successful deployment of COVID-19 vaccines.</td>\n",
       "      <td>0</td>\n",
       "    </tr>\n",
       "    <tr>\n",
       "      <th>46</th>\n",
       "      <td>2021-01-10</td>\n",
       "      <td>If there was any doubt AT&amp;T (NYSE: T) is moving forward with plans to offer an ad-supported version of HBO Max, they were wiped away earlier this week. Speaking at Citi Global TMT's virtual conference on Jan. 5, CFO John Stephens commented: \"That's what AVOD is going to help us do [with HBO Max]: expand the opportunity to serve customers in a different way.\" He went on to say ad-supported streaming would be a chance to \"amortize the investment in content over a greater customer base.\"</td>\n",
       "      <td>0</td>\n",
       "    </tr>\n",
       "    <tr>\n",
       "      <th>47</th>\n",
       "      <td>2021-01-09</td>\n",
       "      <td>In this episode of Rule Breaker Investing, Motley Fool co-founder David Gardner goes through the Fool mailbag, to read about your journeys as investors, your success stories, lessons learned, and reflections on the future. With the new year come new opportunities for growth and optimism.</td>\n",
       "      <td>1</td>\n",
       "    </tr>\n",
       "    <tr>\n",
       "      <th>48</th>\n",
       "      <td>2021-01-08</td>\n",
       "      <td>Why should investors be watching 5G, financials, healthcare, and industrials in 2021? Why do Cloudflare (NYSE: NET) and Docusign (NASDAQ: DOCU) have big upside potential? Will Berkshire Hathaway, Etsy (NASDAQ: ETSY), and NBC's Peacock surprise investors in 2021? Will Roblox score a big IPO? Are Marriott International and Match Group poised for a comeback? And how will the cannabis industry fare in the new year? A few Fools tackle those questions, talk about other stocks, and make some reckless predictions about 2021 in this episode of Motley Fool Money.</td>\n",
       "      <td>0</td>\n",
       "    </tr>\n",
       "    <tr>\n",
       "      <th>49</th>\n",
       "      <td>2021-01-08</td>\n",
       "      <td>In this episode of MarketFoolery, Chris Hill is joined by Motley Fool analyst Jason Moser, as Teledyne (NYSE: TDY) announces plans to buy FLIR Systems (NASDAQ: FLIR) in a cash and stock deal worth $8 billion. Roku (NASDAQ: ROKU) is in advanced talks to buy Quibi's entire catalog of content. Jason analyzes those stories, as well as Chipotle's (NYSE: CMG) new \"rice\" offering and the impending launch of McDonald's (NYSE: MCD) much-anticipated crispy chicken sandwich.</td>\n",
       "      <td>0</td>\n",
       "    </tr>\n",
       "    <tr>\n",
       "      <th>50</th>\n",
       "      <td>2021-01-08</td>\n",
       "      <td>Shares of digital radio specialist Sirius XM Radio (NASDAQ: SIRI) fell 10.9% in calendar year 2020, according to data from S&amp;P Global Market Intelligence. The stock never made a full recovery from the COVID-19 market panic in March.</td>\n",
       "      <td>2</td>\n",
       "    </tr>\n",
       "    <tr>\n",
       "      <th>51</th>\n",
       "      <td>2021-01-08</td>\n",
       "      <td>With a wild 2020 in the books, investors are looking ahead to a new year in which the economy's prospects will largely depend on the successful deployment of COVID-19 vaccines.</td>\n",
       "      <td>0</td>\n",
       "    </tr>\n",
       "    <tr>\n",
       "      <th>52</th>\n",
       "      <td>2021-01-08</td>\n",
       "      <td>Who needs amusement parks when you have the stock market? Investors were taken on a roller coaster ride in 2020 due to the pandemic. After the benchmark S&amp;P 500 lost 34% of its value in roughly a month, it spent the following nine months rocketing higher. The 16% gain the S&amp;P 500 registered for 2020 nearly doubled its average annual return over the last 40 years. Not too bad considering all that transpired.</td>\n",
       "      <td>0</td>\n",
       "    </tr>\n",
       "    <tr>\n",
       "      <th>53</th>\n",
       "      <td>2021-01-08</td>\n",
       "      <td>Roku Inc stock (NASDAQ: ROKU), a company that sells streaming media players, digital content, and advertising, saw its stock rally by an impressive 135% in the last one year. Compared to its lows of March 2020, the stock is currently up a whopping 420%, with its market cap standing at close to $43 billion currently. The stock now trades at close to 23x projected 2020 revenues, despite the fact that the company is likely to post losses in 2020 as well as 2021. Does this make the stock expensive? Probably not, considering that revenues could grow almost 3x by 2025, with net income turning positive and growing steadily, generating continued returns for shareholders. Here’s how this is possible.</td>\n",
       "      <td>0</td>\n",
       "    </tr>\n",
       "    <tr>\n",
       "      <th>54</th>\n",
       "      <td>2021-01-07</td>\n",
       "      <td>InvestorPlace - Stock Market News, Stock Advice &amp; Trading Tips</td>\n",
       "      <td>0</td>\n",
       "    </tr>\n",
       "    <tr>\n",
       "      <th>55</th>\n",
       "      <td>2021-01-12</td>\n",
       "      <td>InvestorPlace - Stock Market News, Stock Advice &amp; Trading Tips</td>\n",
       "      <td>0</td>\n",
       "    </tr>\n",
       "    <tr>\n",
       "      <th>56</th>\n",
       "      <td>2021-01-12</td>\n",
       "      <td>InvestorPlace - Stock Market News, Stock Advice &amp; Trading Tips</td>\n",
       "      <td>0</td>\n",
       "    </tr>\n",
       "    <tr>\n",
       "      <th>57</th>\n",
       "      <td>2021-01-11</td>\n",
       "      <td>Three years ago, Amazon (NASDAQ: AMZN), Berkshire Hathaway (NYSE: BRK-A) (NYSE: BRK-B), and JPMorgan Chase (NYSE: JPM) announced a partnership that would end up becoming Haven Healthcare. Now, the partnership (and Haven) is dissolving. Qualcomm (NASDAQ: QCOM) CEO Steve Mollenkopf announces he's leaving after seven years in the corner office. Ron Gross analyzes those stories, and shares thoughts on portfolio allocation as we dip into the Fool mailbag. Plus, we take a moment to reflect on the 10-year anniversary of this podcast.</td>\n",
       "      <td>1</td>\n",
       "    </tr>\n",
       "    <tr>\n",
       "      <th>58</th>\n",
       "      <td>2021-01-10</td>\n",
       "      <td>If there was any doubt AT&amp;T (NYSE: T) is moving forward with plans to offer an ad-supported version of HBO Max, they were wiped away earlier this week. Speaking at Citi Global TMT's virtual conference on Jan. 5, CFO John Stephens commented: \"That's what AVOD is going to help us do [with HBO Max]: expand the opportunity to serve customers in a different way.\" He went on to say ad-supported streaming would be a chance to \"amortize the investment in content over a greater customer base.\"</td>\n",
       "      <td>0</td>\n",
       "    </tr>\n",
       "    <tr>\n",
       "      <th>59</th>\n",
       "      <td>2021-01-09</td>\n",
       "      <td>In this episode of Rule Breaker Investing, Motley Fool co-founder David Gardner goes through the Fool mailbag, to read about your journeys as investors, your success stories, lessons learned, and reflections on the future. With the new year come new opportunities for growth and optimism.</td>\n",
       "      <td>1</td>\n",
       "    </tr>\n",
       "    <tr>\n",
       "      <th>60</th>\n",
       "      <td>2021-01-08</td>\n",
       "      <td>Why should investors be watching 5G, financials, healthcare, and industrials in 2021? Why do Cloudflare (NYSE: NET) and Docusign (NASDAQ: DOCU) have big upside potential? Will Berkshire Hathaway, Etsy (NASDAQ: ETSY), and NBC's Peacock surprise investors in 2021? Will Roblox score a big IPO? Are Marriott International and Match Group poised for a comeback? And how will the cannabis industry fare in the new year? A few Fools tackle those questions, talk about other stocks, and make some reckless predictions about 2021 in this episode of Motley Fool Money.</td>\n",
       "      <td>0</td>\n",
       "    </tr>\n",
       "    <tr>\n",
       "      <th>61</th>\n",
       "      <td>2021-01-08</td>\n",
       "      <td>In this episode of MarketFoolery, Chris Hill is joined by Motley Fool analyst Jason Moser, as Teledyne (NYSE: TDY) announces plans to buy FLIR Systems (NASDAQ: FLIR) in a cash and stock deal worth $8 billion. Roku (NASDAQ: ROKU) is in advanced talks to buy Quibi's entire catalog of content. Jason analyzes those stories, as well as Chipotle's (NYSE: CMG) new \"rice\" offering and the impending launch of McDonald's (NYSE: MCD) much-anticipated crispy chicken sandwich.</td>\n",
       "      <td>0</td>\n",
       "    </tr>\n",
       "    <tr>\n",
       "      <th>62</th>\n",
       "      <td>2021-01-08</td>\n",
       "      <td>Shares of digital radio specialist Sirius XM Radio (NASDAQ: SIRI) fell 10.9% in calendar year 2020, according to data from S&amp;P Global Market Intelligence. The stock never made a full recovery from the COVID-19 market panic in March.</td>\n",
       "      <td>2</td>\n",
       "    </tr>\n",
       "    <tr>\n",
       "      <th>63</th>\n",
       "      <td>2021-01-08</td>\n",
       "      <td>Who needs amusement parks when you have the stock market? Investors were taken on a roller coaster ride in 2020 due to the pandemic. After the benchmark S&amp;P 500 lost 34% of its value in roughly a month, it spent the following nine months rocketing higher. The 16% gain the S&amp;P 500 registered for 2020 nearly doubled its average annual return over the last 40 years. Not too bad considering all that transpired.</td>\n",
       "      <td>0</td>\n",
       "    </tr>\n",
       "    <tr>\n",
       "      <th>64</th>\n",
       "      <td>2021-01-08</td>\n",
       "      <td>With a wild 2020 in the books, investors are looking ahead to a new year in which the economy's prospects will largely depend on the successful deployment of COVID-19 vaccines.</td>\n",
       "      <td>0</td>\n",
       "    </tr>\n",
       "    <tr>\n",
       "      <th>65</th>\n",
       "      <td>2021-01-07</td>\n",
       "      <td>InvestorPlace - Stock Market News, Stock Advice &amp; Trading Tips</td>\n",
       "      <td>0</td>\n",
       "    </tr>\n",
       "    <tr>\n",
       "      <th>66</th>\n",
       "      <td>2021-01-08</td>\n",
       "      <td>Roku Inc stock (NASDAQ: ROKU), a company that sells streaming media players, digital content, and advertising, saw its stock rally by an impressive 135% in the last one year. Compared to its lows of March 2020, the stock is currently up a whopping 420%, with its market cap standing at close to $43 billion currently. The stock now trades at close to 23x projected 2020 revenues, despite the fact that the company is likely to post losses in 2020 as well as 2021. Does this make the stock expensive? Probably not, considering that revenues could grow almost 3x by 2025, with net income turning positive and growing steadily, generating continued returns for shareholders. Here’s how this is possible.</td>\n",
       "      <td>0</td>\n",
       "    </tr>\n",
       "    <tr>\n",
       "      <th>67</th>\n",
       "      <td>2021-01-07</td>\n",
       "      <td>Tech stocks have been among the top performers on the stock market. Any regular reader of StockMarket.com will tell you this. In fact, most seasoned investors would share this sentiment as well. This is because of the broad array of tech companies out there. Whether it is a new iteration of existing tech or something entirely novel, most investors can find a tech stock that suits their portfolio. Likewise, investors have turned to the top tech stocks in good and bad times. Some would even go as far as to say that they are a safe haven in the stock market today.</td>\n",
       "      <td>0</td>\n",
       "    </tr>\n",
       "    <tr>\n",
       "      <th>68</th>\n",
       "      <td>2021-01-07</td>\n",
       "      <td>NEW YORK/LONDON/HONG KONG (Reuters Breakingviews) -     Corona Capital is a column updated throughout the day by Breakingviews columnists around the world with short, sharp pandemic-related insights.</td>\n",
       "      <td>1</td>\n",
       "    </tr>\n",
       "    <tr>\n",
       "      <th>69</th>\n",
       "      <td>2021-01-12</td>\n",
       "      <td>InvestorPlace - Stock Market News, Stock Advice &amp; Trading Tips</td>\n",
       "      <td>0</td>\n",
       "    </tr>\n",
       "    <tr>\n",
       "      <th>70</th>\n",
       "      <td>2021-01-11</td>\n",
       "      <td>Three years ago, Amazon (NASDAQ: AMZN), Berkshire Hathaway (NYSE: BRK-A) (NYSE: BRK-B), and JPMorgan Chase (NYSE: JPM) announced a partnership that would end up becoming Haven Healthcare. Now, the partnership (and Haven) is dissolving. Qualcomm (NASDAQ: QCOM) CEO Steve Mollenkopf announces he's leaving after seven years in the corner office. Ron Gross analyzes those stories, and shares thoughts on portfolio allocation as we dip into the Fool mailbag. Plus, we take a moment to reflect on the 10-year anniversary of this podcast.</td>\n",
       "      <td>1</td>\n",
       "    </tr>\n",
       "    <tr>\n",
       "      <th>71</th>\n",
       "      <td>2021-01-10</td>\n",
       "      <td>If there was any doubt AT&amp;T (NYSE: T) is moving forward with plans to offer an ad-supported version of HBO Max, they were wiped away earlier this week. Speaking at Citi Global TMT's virtual conference on Jan. 5, CFO John Stephens commented: \"That's what AVOD is going to help us do [with HBO Max]: expand the opportunity to serve customers in a different way.\" He went on to say ad-supported streaming would be a chance to \"amortize the investment in content over a greater customer base.\"</td>\n",
       "      <td>0</td>\n",
       "    </tr>\n",
       "    <tr>\n",
       "      <th>72</th>\n",
       "      <td>2021-01-09</td>\n",
       "      <td>In this episode of Rule Breaker Investing, Motley Fool co-founder David Gardner goes through the Fool mailbag, to read about your journeys as investors, your success stories, lessons learned, and reflections on the future. With the new year come new opportunities for growth and optimism.</td>\n",
       "      <td>1</td>\n",
       "    </tr>\n",
       "    <tr>\n",
       "      <th>73</th>\n",
       "      <td>2021-01-08</td>\n",
       "      <td>Why should investors be watching 5G, financials, healthcare, and industrials in 2021? Why do Cloudflare (NYSE: NET) and Docusign (NASDAQ: DOCU) have big upside potential? Will Berkshire Hathaway, Etsy (NASDAQ: ETSY), and NBC's Peacock surprise investors in 2021? Will Roblox score a big IPO? Are Marriott International and Match Group poised for a comeback? And how will the cannabis industry fare in the new year? A few Fools tackle those questions, talk about other stocks, and make some reckless predictions about 2021 in this episode of Motley Fool Money.</td>\n",
       "      <td>0</td>\n",
       "    </tr>\n",
       "    <tr>\n",
       "      <th>74</th>\n",
       "      <td>2021-01-08</td>\n",
       "      <td>Shares of digital radio specialist Sirius XM Radio (NASDAQ: SIRI) fell 10.9% in calendar year 2020, according to data from S&amp;P Global Market Intelligence. The stock never made a full recovery from the COVID-19 market panic in March.</td>\n",
       "      <td>2</td>\n",
       "    </tr>\n",
       "    <tr>\n",
       "      <th>75</th>\n",
       "      <td>2021-01-08</td>\n",
       "      <td>In this episode of MarketFoolery, Chris Hill is joined by Motley Fool analyst Jason Moser, as Teledyne (NYSE: TDY) announces plans to buy FLIR Systems (NASDAQ: FLIR) in a cash and stock deal worth $8 billion. Roku (NASDAQ: ROKU) is in advanced talks to buy Quibi's entire catalog of content. Jason analyzes those stories, as well as Chipotle's (NYSE: CMG) new \"rice\" offering and the impending launch of McDonald's (NYSE: MCD) much-anticipated crispy chicken sandwich.</td>\n",
       "      <td>0</td>\n",
       "    </tr>\n",
       "    <tr>\n",
       "      <th>76</th>\n",
       "      <td>2021-01-08</td>\n",
       "      <td>With a wild 2020 in the books, investors are looking ahead to a new year in which the economy's prospects will largely depend on the successful deployment of COVID-19 vaccines.</td>\n",
       "      <td>0</td>\n",
       "    </tr>\n",
       "    <tr>\n",
       "      <th>77</th>\n",
       "      <td>2021-01-08</td>\n",
       "      <td>Roku Inc stock (NASDAQ: ROKU), a company that sells streaming media players, digital content, and advertising, saw its stock rally by an impressive 135% in the last one year. Compared to its lows of March 2020, the stock is currently up a whopping 420%, with its market cap standing at close to $43 billion currently. The stock now trades at close to 23x projected 2020 revenues, despite the fact that the company is likely to post losses in 2020 as well as 2021. Does this make the stock expensive? Probably not, considering that revenues could grow almost 3x by 2025, with net income turning positive and growing steadily, generating continued returns for shareholders. Here’s how this is possible.</td>\n",
       "      <td>0</td>\n",
       "    </tr>\n",
       "    <tr>\n",
       "      <th>78</th>\n",
       "      <td>2021-01-07</td>\n",
       "      <td>InvestorPlace - Stock Market News, Stock Advice &amp; Trading Tips</td>\n",
       "      <td>0</td>\n",
       "    </tr>\n",
       "    <tr>\n",
       "      <th>79</th>\n",
       "      <td>2021-01-08</td>\n",
       "      <td>Who needs amusement parks when you have the stock market? Investors were taken on a roller coaster ride in 2020 due to the pandemic. After the benchmark S&amp;P 500 lost 34% of its value in roughly a month, it spent the following nine months rocketing higher. The 16% gain the S&amp;P 500 registered for 2020 nearly doubled its average annual return over the last 40 years. Not too bad considering all that transpired.</td>\n",
       "      <td>0</td>\n",
       "    </tr>\n",
       "    <tr>\n",
       "      <th>80</th>\n",
       "      <td>2021-01-07</td>\n",
       "      <td>Tech stocks have been among the top performers on the stock market. Any regular reader of StockMarket.com will tell you this. In fact, most seasoned investors would share this sentiment as well. This is because of the broad array of tech companies out there. Whether it is a new iteration of existing tech or something entirely novel, most investors can find a tech stock that suits their portfolio. Likewise, investors have turned to the top tech stocks in good and bad times. Some would even go as far as to say that they are a safe haven in the stock market today.</td>\n",
       "      <td>0</td>\n",
       "    </tr>\n",
       "    <tr>\n",
       "      <th>81</th>\n",
       "      <td>2021-01-07</td>\n",
       "      <td>NEW YORK/LONDON/HONG KONG (Reuters Breakingviews) -     Corona Capital is a column updated throughout the day by Breakingviews columnists around the world with short, sharp pandemic-related insights.</td>\n",
       "      <td>1</td>\n",
       "    </tr>\n",
       "    <tr>\n",
       "      <th>82</th>\n",
       "      <td>2021-01-07</td>\n",
       "      <td>InvestorPlace - Stock Market News, Stock Advice &amp; Trading Tips</td>\n",
       "      <td>0</td>\n",
       "    </tr>\n",
       "    <tr>\n",
       "      <th>83</th>\n",
       "      <td>2021-01-07</td>\n",
       "      <td>Analyst firm Cowen just issued a preview of Netflix (NASDAQ: NFLX) earnings for the fourth quarter of 2020. Cowen analyst John Blackledge found a lot to like in his Netflix research and ended up boosting his one-year target price for the stock.</td>\n",
       "      <td>1</td>\n",
       "    </tr>\n",
       "  </tbody>\n",
       "</table>\n",
       "</div>"
      ],
      "text/plain": [
       "          date  \\\n",
       "0   2021-01-13   \n",
       "1   2021-01-12   \n",
       "2   2021-01-12   \n",
       "3   2021-01-12   \n",
       "4   2021-01-11   \n",
       "5   2021-01-12   \n",
       "6   2021-01-10   \n",
       "7   2021-01-12   \n",
       "8   2021-01-13   \n",
       "9   2021-01-13   \n",
       "10  2021-01-12   \n",
       "11  2021-01-12   \n",
       "12  2021-01-12   \n",
       "13  2021-01-12   \n",
       "14  2021-01-12   \n",
       "15  2021-01-11   \n",
       "16  2021-01-12   \n",
       "17  2021-01-12   \n",
       "18  2021-01-12   \n",
       "19  2021-01-12   \n",
       "20  2021-01-12   \n",
       "21  2021-01-11   \n",
       "22  2021-01-09   \n",
       "23  2021-01-09   \n",
       "24  2021-01-08   \n",
       "25  2021-01-08   \n",
       "26  2021-01-08   \n",
       "27  2021-01-12   \n",
       "28  2021-01-10   \n",
       "29  2021-01-08   \n",
       "30  2021-01-12   \n",
       "31  2021-01-11   \n",
       "32  2021-01-10   \n",
       "33  2021-01-12   \n",
       "34  2021-01-10   \n",
       "35  2021-01-12   \n",
       "36  2021-01-09   \n",
       "37  2021-01-08   \n",
       "38  2021-01-08   \n",
       "39  2021-01-12   \n",
       "40  2021-01-12   \n",
       "41  2021-01-08   \n",
       "42  2021-01-12   \n",
       "43  2021-01-08   \n",
       "44  2021-01-11   \n",
       "45  2021-01-08   \n",
       "46  2021-01-10   \n",
       "47  2021-01-09   \n",
       "48  2021-01-08   \n",
       "49  2021-01-08   \n",
       "50  2021-01-08   \n",
       "51  2021-01-08   \n",
       "52  2021-01-08   \n",
       "53  2021-01-08   \n",
       "54  2021-01-07   \n",
       "55  2021-01-12   \n",
       "56  2021-01-12   \n",
       "57  2021-01-11   \n",
       "58  2021-01-10   \n",
       "59  2021-01-09   \n",
       "60  2021-01-08   \n",
       "61  2021-01-08   \n",
       "62  2021-01-08   \n",
       "63  2021-01-08   \n",
       "64  2021-01-08   \n",
       "65  2021-01-07   \n",
       "66  2021-01-08   \n",
       "67  2021-01-07   \n",
       "68  2021-01-07   \n",
       "69  2021-01-12   \n",
       "70  2021-01-11   \n",
       "71  2021-01-10   \n",
       "72  2021-01-09   \n",
       "73  2021-01-08   \n",
       "74  2021-01-08   \n",
       "75  2021-01-08   \n",
       "76  2021-01-08   \n",
       "77  2021-01-08   \n",
       "78  2021-01-07   \n",
       "79  2021-01-08   \n",
       "80  2021-01-07   \n",
       "81  2021-01-07   \n",
       "82  2021-01-07   \n",
       "83  2021-01-07   \n",
       "\n",
       "                                                                                                                                                                                                                                                                                                                                                                                                                                                                                                                                                                                                                                                                                                                         content  \\\n",
       "0                                                                                                                                                                                                                                                                                                                                                                                                                                                                                             Walt Disney (NYSE: DIS) blew away all expectations with its Disney+ streaming service, both its own and those of analysts. Subscriber counts the entertainment giant thought it would take years to reach occurred in just months.   \n",
       "1                                                                                                                                                                                                                                                                                                                                                                                                                                                                                                                                       Shares of Zomedica Pharmaceuticals (NYSEMKT: ZOM) continued their recent rapid ascent on Tuesday. As of 11:33 a.m. EST, the veterinary health company's stock price is up more than 40%.   \n",
       "2                                                                                                                                                                                                                                                                                                           Both Netflix (NASDAQ: NFLX) and Amazon (NASDAQ: AMZN) are fantastic companies with bright futures. They've already created a ton of wealth for investors, and both have tons of growth left in their tanks. If you own one of them but not the other, go ahead and fix that error right now. Those who own neither should really pick up both. The only way not to win is not to play, if I may paraphrase WarGames.   \n",
       "3                                                                                                                                                                                                                                                                                                                                                                                                                                                                                                                                                                                                                                                                 InvestorPlace - Stock Market News, Stock Advice & Trading Tips   \n",
       "4                                                                                                                                                                           Three years ago, Amazon (NASDAQ: AMZN), Berkshire Hathaway (NYSE: BRK-A) (NYSE: BRK-B), and JPMorgan Chase (NYSE: JPM) announced a partnership that would end up becoming Haven Healthcare. Now, the partnership (and Haven) is dissolving. Qualcomm (NASDAQ: QCOM) CEO Steve Mollenkopf announces he's leaving after seven years in the corner office. Ron Gross analyzes those stories, and shares thoughts on portfolio allocation as we dip into the Fool mailbag. Plus, we take a moment to reflect on the 10-year anniversary of this podcast.   \n",
       "5                                                                                                                                                                                                                                                                                                                                                                                                                                                                                                                                                                                                                                                                 InvestorPlace - Stock Market News, Stock Advice & Trading Tips   \n",
       "6                                                                                                                                                                                                                      If there was any doubt AT&T (NYSE: T) is moving forward with plans to offer an ad-supported version of HBO Max, they were wiped away earlier this week. Speaking at Citi Global TMT's virtual conference on Jan. 5, CFO John Stephens commented: \"That's what AVOD is going to help us do [with HBO Max]: expand the opportunity to serve customers in a different way.\" He went on to say ad-supported streaming would be a chance to \"amortize the investment in content over a greater customer base.\"   \n",
       "7                                                                                                                                                                                                                                                                                                                                                                                                                                                                                                                                                                                                                                                                 InvestorPlace - Stock Market News, Stock Advice & Trading Tips   \n",
       "8                                                                                                                                                                                                                                                                                                                                                                                                                                                                             BENGALURU, Jan 13 (Reuters) - Amazon.com AMZN.O on Wednesday launched a lower-priced mobile-only subscription plan for its video streaming service in India, undercutting a similar plan by Netflix Inc NFLX.O to woo price-sensitive subscribers.   \n",
       "9                                                                                                                                                                                                                                                                                                                                                                                                                                                                                             Walt Disney (NYSE: DIS) blew away all expectations with its Disney+ streaming service, both its own and those of analysts. Subscriber counts the entertainment giant thought it would take years to reach occurred in just months.   \n",
       "10                                                                                                                                                                                                                                                                                                                                                                                                                                                                                                                                                                                                                                                                InvestorPlace - Stock Market News, Stock Advice & Trading Tips   \n",
       "11                                                                                                                                                                                                                                                                                                                                                                                                                                                                                                                                      Shares of Zomedica Pharmaceuticals (NYSEMKT: ZOM) continued their recent rapid ascent on Tuesday. As of 11:33 a.m. EST, the veterinary health company's stock price is up more than 40%.   \n",
       "12                                                                                                                                                                                                                                                                                                          Both Netflix (NASDAQ: NFLX) and Amazon (NASDAQ: AMZN) are fantastic companies with bright futures. They've already created a ton of wealth for investors, and both have tons of growth left in their tanks. If you own one of them but not the other, go ahead and fix that error right now. Those who own neither should really pick up both. The only way not to win is not to play, if I may paraphrase WarGames.   \n",
       "13                                                                                                                                                                                                                                                                                                                                                                                                                                                                                                                                                                                                                                                                InvestorPlace - Stock Market News, Stock Advice & Trading Tips   \n",
       "14                                                                                                                                                                                                                                                                                                                                                                                                                                                                                                                                                                                                                                                                InvestorPlace - Stock Market News, Stock Advice & Trading Tips   \n",
       "15                                                                                                                                                                          Three years ago, Amazon (NASDAQ: AMZN), Berkshire Hathaway (NYSE: BRK-A) (NYSE: BRK-B), and JPMorgan Chase (NYSE: JPM) announced a partnership that would end up becoming Haven Healthcare. Now, the partnership (and Haven) is dissolving. Qualcomm (NASDAQ: QCOM) CEO Steve Mollenkopf announces he's leaving after seven years in the corner office. Ron Gross analyzes those stories, and shares thoughts on portfolio allocation as we dip into the Fool mailbag. Plus, we take a moment to reflect on the 10-year anniversary of this podcast.   \n",
       "16                                                                                                                                                                                                                                                                                                                                                                                                                                                                                                                                                                                                                                                                InvestorPlace - Stock Market News, Stock Advice & Trading Tips   \n",
       "17                                                                                                                                                                                                                                                                                                                                                                                                                                                                                                                                      Shares of Zomedica Pharmaceuticals (NYSEMKT: ZOM) continued their recent rapid ascent on Tuesday. As of 11:33 a.m. EST, the veterinary health company's stock price is up more than 40%.   \n",
       "18                                                                                                                                                                                                                                                                                                          Both Netflix (NASDAQ: NFLX) and Amazon (NASDAQ: AMZN) are fantastic companies with bright futures. They've already created a ton of wealth for investors, and both have tons of growth left in their tanks. If you own one of them but not the other, go ahead and fix that error right now. Those who own neither should really pick up both. The only way not to win is not to play, if I may paraphrase WarGames.   \n",
       "19                                                                                                                                                                                                                                                                                                                                                                                                                                                                                                                                                                                                                                                                InvestorPlace - Stock Market News, Stock Advice & Trading Tips   \n",
       "20                                                                                                                                                                                                                                                                                                                                                                                                                                                                                                                                                                                                                                                                InvestorPlace - Stock Market News, Stock Advice & Trading Tips   \n",
       "21                                                                                                                                                                          Three years ago, Amazon (NASDAQ: AMZN), Berkshire Hathaway (NYSE: BRK-A) (NYSE: BRK-B), and JPMorgan Chase (NYSE: JPM) announced a partnership that would end up becoming Haven Healthcare. Now, the partnership (and Haven) is dissolving. Qualcomm (NASDAQ: QCOM) CEO Steve Mollenkopf announces he's leaving after seven years in the corner office. Ron Gross analyzes those stories, and shares thoughts on portfolio allocation as we dip into the Fool mailbag. Plus, we take a moment to reflect on the 10-year anniversary of this podcast.   \n",
       "22                                                                                                                                                                                                                                                                                                                                                                                                                             In this episode of Rule Breaker Investing, Motley Fool co-founder David Gardner goes through the Fool mailbag, to read about your journeys as investors, your success stories, lessons learned, and reflections on the future. With the new year come new opportunities for growth and optimism.    \n",
       "23                                                                                                                                                                                                                                                                                                                                                                                                                             In this episode of Rule Breaker Investing, Motley Fool co-founder David Gardner goes through the Fool mailbag, to read about your journeys as investors, your success stories, lessons learned, and reflections on the future. With the new year come new opportunities for growth and optimism.    \n",
       "24                                                                                                                                              Why should investors be watching 5G, financials, healthcare, and industrials in 2021? Why do Cloudflare (NYSE: NET) and Docusign (NASDAQ: DOCU) have big upside potential? Will Berkshire Hathaway, Etsy (NASDAQ: ETSY), and NBC's Peacock surprise investors in 2021? Will Roblox score a big IPO? Are Marriott International and Match Group poised for a comeback? And how will the cannabis industry fare in the new year? A few Fools tackle those questions, talk about other stocks, and make some reckless predictions about 2021 in this episode of Motley Fool Money.    \n",
       "25                                                                                                                                                                                                                                          In this episode of MarketFoolery, Chris Hill is joined by Motley Fool analyst Jason Moser, as Teledyne (NYSE: TDY) announces plans to buy FLIR Systems (NASDAQ: FLIR) in a cash and stock deal worth $8 billion. Roku (NASDAQ: ROKU) is in advanced talks to buy Quibi's entire catalog of content. Jason analyzes those stories, as well as Chipotle's (NYSE: CMG) new \"rice\" offering and the impending launch of McDonald's (NYSE: MCD) much-anticipated crispy chicken sandwich.   \n",
       "26                                                                                                                                                                                                                                                                                                                                                                                                                                                                                      Shares of digital radio specialist Sirius XM Radio (NASDAQ: SIRI) fell 10.9% in calendar year 2020, according to data from S&P Global Market Intelligence. The stock never made a full recovery from the COVID-19 market panic in March.   \n",
       "27                                                                                                                                                                                                                                                                                                                                                                                                                                                                                                                                      Shares of Zomedica Pharmaceuticals (NYSEMKT: ZOM) continued their recent rapid ascent on Tuesday. As of 11:33 a.m. EST, the veterinary health company's stock price is up more than 40%.   \n",
       "28                                                                                                                                                                                                                     If there was any doubt AT&T (NYSE: T) is moving forward with plans to offer an ad-supported version of HBO Max, they were wiped away earlier this week. Speaking at Citi Global TMT's virtual conference on Jan. 5, CFO John Stephens commented: \"That's what AVOD is going to help us do [with HBO Max]: expand the opportunity to serve customers in a different way.\" He went on to say ad-supported streaming would be a chance to \"amortize the investment in content over a greater customer base.\"   \n",
       "29                                                                                                                                              Why should investors be watching 5G, financials, healthcare, and industrials in 2021? Why do Cloudflare (NYSE: NET) and Docusign (NASDAQ: DOCU) have big upside potential? Will Berkshire Hathaway, Etsy (NASDAQ: ETSY), and NBC's Peacock surprise investors in 2021? Will Roblox score a big IPO? Are Marriott International and Match Group poised for a comeback? And how will the cannabis industry fare in the new year? A few Fools tackle those questions, talk about other stocks, and make some reckless predictions about 2021 in this episode of Motley Fool Money.    \n",
       "30                                                                                                                                                                                                                                                                                                                                                                                                                                                                                                                                                                                                                                                                InvestorPlace - Stock Market News, Stock Advice & Trading Tips   \n",
       "31                                                                                                                                                                          Three years ago, Amazon (NASDAQ: AMZN), Berkshire Hathaway (NYSE: BRK-A) (NYSE: BRK-B), and JPMorgan Chase (NYSE: JPM) announced a partnership that would end up becoming Haven Healthcare. Now, the partnership (and Haven) is dissolving. Qualcomm (NASDAQ: QCOM) CEO Steve Mollenkopf announces he's leaving after seven years in the corner office. Ron Gross analyzes those stories, and shares thoughts on portfolio allocation as we dip into the Fool mailbag. Plus, we take a moment to reflect on the 10-year anniversary of this podcast.   \n",
       "32                                                                                                                                                                                                                     If there was any doubt AT&T (NYSE: T) is moving forward with plans to offer an ad-supported version of HBO Max, they were wiped away earlier this week. Speaking at Citi Global TMT's virtual conference on Jan. 5, CFO John Stephens commented: \"That's what AVOD is going to help us do [with HBO Max]: expand the opportunity to serve customers in a different way.\" He went on to say ad-supported streaming would be a chance to \"amortize the investment in content over a greater customer base.\"   \n",
       "33                                                                                                                                                                                                                                                                                                          Both Netflix (NASDAQ: NFLX) and Amazon (NASDAQ: AMZN) are fantastic companies with bright futures. They've already created a ton of wealth for investors, and both have tons of growth left in their tanks. If you own one of them but not the other, go ahead and fix that error right now. Those who own neither should really pick up both. The only way not to win is not to play, if I may paraphrase WarGames.   \n",
       "34                                                                                                                                                                                                                     If there was any doubt AT&T (NYSE: T) is moving forward with plans to offer an ad-supported version of HBO Max, they were wiped away earlier this week. Speaking at Citi Global TMT's virtual conference on Jan. 5, CFO John Stephens commented: \"That's what AVOD is going to help us do [with HBO Max]: expand the opportunity to serve customers in a different way.\" He went on to say ad-supported streaming would be a chance to \"amortize the investment in content over a greater customer base.\"   \n",
       "35                                                                                                                                                                                                                                                                                                                                                                                                                                                                                                                                                                                                                                                                InvestorPlace - Stock Market News, Stock Advice & Trading Tips   \n",
       "36                                                                                                                                                                                                                                                                                                                                                                                                                             In this episode of Rule Breaker Investing, Motley Fool co-founder David Gardner goes through the Fool mailbag, to read about your journeys as investors, your success stories, lessons learned, and reflections on the future. With the new year come new opportunities for growth and optimism.    \n",
       "37                                                                                                                                                                                                                                          In this episode of MarketFoolery, Chris Hill is joined by Motley Fool analyst Jason Moser, as Teledyne (NYSE: TDY) announces plans to buy FLIR Systems (NASDAQ: FLIR) in a cash and stock deal worth $8 billion. Roku (NASDAQ: ROKU) is in advanced talks to buy Quibi's entire catalog of content. Jason analyzes those stories, as well as Chipotle's (NYSE: CMG) new \"rice\" offering and the impending launch of McDonald's (NYSE: MCD) much-anticipated crispy chicken sandwich.   \n",
       "38                                                                                                                                                                                                                                                                                                    Who needs amusement parks when you have the stock market? Investors were taken on a roller coaster ride in 2020 due to the pandemic. After the benchmark S&P 500 lost 34% of its value in roughly a month, it spent the following nine months rocketing higher. The 16% gain the S&P 500 registered for 2020 nearly doubled its average annual return over the last 40 years. Not too bad considering all that transpired.   \n",
       "39                                                                                                                                                                                                                                                                                                          Both Netflix (NASDAQ: NFLX) and Amazon (NASDAQ: AMZN) are fantastic companies with bright futures. They've already created a ton of wealth for investors, and both have tons of growth left in their tanks. If you own one of them but not the other, go ahead and fix that error right now. Those who own neither should really pick up both. The only way not to win is not to play, if I may paraphrase WarGames.   \n",
       "40                                                                                                                                                                                                                                                                                                                                                                                                                                                                                                                                                                                                                                                                InvestorPlace - Stock Market News, Stock Advice & Trading Tips   \n",
       "41                                                                                                                                              Why should investors be watching 5G, financials, healthcare, and industrials in 2021? Why do Cloudflare (NYSE: NET) and Docusign (NASDAQ: DOCU) have big upside potential? Will Berkshire Hathaway, Etsy (NASDAQ: ETSY), and NBC's Peacock surprise investors in 2021? Will Roblox score a big IPO? Are Marriott International and Match Group poised for a comeback? And how will the cannabis industry fare in the new year? A few Fools tackle those questions, talk about other stocks, and make some reckless predictions about 2021 in this episode of Motley Fool Money.    \n",
       "42                                                                                                                                                                                                                                                                                                                                                                                                                                                                                                                                                                                                                                                                InvestorPlace - Stock Market News, Stock Advice & Trading Tips   \n",
       "43                                                                                                                                                                                                                                                                                                                                                                                                                                                                                      Shares of digital radio specialist Sirius XM Radio (NASDAQ: SIRI) fell 10.9% in calendar year 2020, according to data from S&P Global Market Intelligence. The stock never made a full recovery from the COVID-19 market panic in March.   \n",
       "44                                                                                                                                                                          Three years ago, Amazon (NASDAQ: AMZN), Berkshire Hathaway (NYSE: BRK-A) (NYSE: BRK-B), and JPMorgan Chase (NYSE: JPM) announced a partnership that would end up becoming Haven Healthcare. Now, the partnership (and Haven) is dissolving. Qualcomm (NASDAQ: QCOM) CEO Steve Mollenkopf announces he's leaving after seven years in the corner office. Ron Gross analyzes those stories, and shares thoughts on portfolio allocation as we dip into the Fool mailbag. Plus, we take a moment to reflect on the 10-year anniversary of this podcast.   \n",
       "45                                                                                                                                                                                                                                                                                                                                                                                                                                                                                                                                              With a wild 2020 in the books, investors are looking ahead to a new year in which the economy's prospects will largely depend on the successful deployment of COVID-19 vaccines.   \n",
       "46                                                                                                                                                                                                                     If there was any doubt AT&T (NYSE: T) is moving forward with plans to offer an ad-supported version of HBO Max, they were wiped away earlier this week. Speaking at Citi Global TMT's virtual conference on Jan. 5, CFO John Stephens commented: \"That's what AVOD is going to help us do [with HBO Max]: expand the opportunity to serve customers in a different way.\" He went on to say ad-supported streaming would be a chance to \"amortize the investment in content over a greater customer base.\"   \n",
       "47                                                                                                                                                                                                                                                                                                                                                                                                                             In this episode of Rule Breaker Investing, Motley Fool co-founder David Gardner goes through the Fool mailbag, to read about your journeys as investors, your success stories, lessons learned, and reflections on the future. With the new year come new opportunities for growth and optimism.    \n",
       "48                                                                                                                                              Why should investors be watching 5G, financials, healthcare, and industrials in 2021? Why do Cloudflare (NYSE: NET) and Docusign (NASDAQ: DOCU) have big upside potential? Will Berkshire Hathaway, Etsy (NASDAQ: ETSY), and NBC's Peacock surprise investors in 2021? Will Roblox score a big IPO? Are Marriott International and Match Group poised for a comeback? And how will the cannabis industry fare in the new year? A few Fools tackle those questions, talk about other stocks, and make some reckless predictions about 2021 in this episode of Motley Fool Money.    \n",
       "49                                                                                                                                                                                                                                          In this episode of MarketFoolery, Chris Hill is joined by Motley Fool analyst Jason Moser, as Teledyne (NYSE: TDY) announces plans to buy FLIR Systems (NASDAQ: FLIR) in a cash and stock deal worth $8 billion. Roku (NASDAQ: ROKU) is in advanced talks to buy Quibi's entire catalog of content. Jason analyzes those stories, as well as Chipotle's (NYSE: CMG) new \"rice\" offering and the impending launch of McDonald's (NYSE: MCD) much-anticipated crispy chicken sandwich.   \n",
       "50                                                                                                                                                                                                                                                                                                                                                                                                                                                                                      Shares of digital radio specialist Sirius XM Radio (NASDAQ: SIRI) fell 10.9% in calendar year 2020, according to data from S&P Global Market Intelligence. The stock never made a full recovery from the COVID-19 market panic in March.   \n",
       "51                                                                                                                                                                                                                                                                                                                                                                                                                                                                                                                                              With a wild 2020 in the books, investors are looking ahead to a new year in which the economy's prospects will largely depend on the successful deployment of COVID-19 vaccines.   \n",
       "52                                                                                                                                                                                                                                                                                                    Who needs amusement parks when you have the stock market? Investors were taken on a roller coaster ride in 2020 due to the pandemic. After the benchmark S&P 500 lost 34% of its value in roughly a month, it spent the following nine months rocketing higher. The 16% gain the S&P 500 registered for 2020 nearly doubled its average annual return over the last 40 years. Not too bad considering all that transpired.   \n",
       "53  Roku Inc stock (NASDAQ: ROKU), a company that sells streaming media players, digital content, and advertising, saw its stock rally by an impressive 135% in the last one year. Compared to its lows of March 2020, the stock is currently up a whopping 420%, with its market cap standing at close to $43 billion currently. The stock now trades at close to 23x projected 2020 revenues, despite the fact that the company is likely to post losses in 2020 as well as 2021. Does this make the stock expensive? Probably not, considering that revenues could grow almost 3x by 2025, with net income turning positive and growing steadily, generating continued returns for shareholders. Here’s how this is possible.   \n",
       "54                                                                                                                                                                                                                                                                                                                                                                                                                                                                                                                                                                                                                                                                InvestorPlace - Stock Market News, Stock Advice & Trading Tips   \n",
       "55                                                                                                                                                                                                                                                                                                                                                                                                                                                                                                                                                                                                                                                                InvestorPlace - Stock Market News, Stock Advice & Trading Tips   \n",
       "56                                                                                                                                                                                                                                                                                                                                                                                                                                                                                                                                                                                                                                                                InvestorPlace - Stock Market News, Stock Advice & Trading Tips   \n",
       "57                                                                                                                                                                          Three years ago, Amazon (NASDAQ: AMZN), Berkshire Hathaway (NYSE: BRK-A) (NYSE: BRK-B), and JPMorgan Chase (NYSE: JPM) announced a partnership that would end up becoming Haven Healthcare. Now, the partnership (and Haven) is dissolving. Qualcomm (NASDAQ: QCOM) CEO Steve Mollenkopf announces he's leaving after seven years in the corner office. Ron Gross analyzes those stories, and shares thoughts on portfolio allocation as we dip into the Fool mailbag. Plus, we take a moment to reflect on the 10-year anniversary of this podcast.   \n",
       "58                                                                                                                                                                                                                     If there was any doubt AT&T (NYSE: T) is moving forward with plans to offer an ad-supported version of HBO Max, they were wiped away earlier this week. Speaking at Citi Global TMT's virtual conference on Jan. 5, CFO John Stephens commented: \"That's what AVOD is going to help us do [with HBO Max]: expand the opportunity to serve customers in a different way.\" He went on to say ad-supported streaming would be a chance to \"amortize the investment in content over a greater customer base.\"   \n",
       "59                                                                                                                                                                                                                                                                                                                                                                                                                             In this episode of Rule Breaker Investing, Motley Fool co-founder David Gardner goes through the Fool mailbag, to read about your journeys as investors, your success stories, lessons learned, and reflections on the future. With the new year come new opportunities for growth and optimism.    \n",
       "60                                                                                                                                              Why should investors be watching 5G, financials, healthcare, and industrials in 2021? Why do Cloudflare (NYSE: NET) and Docusign (NASDAQ: DOCU) have big upside potential? Will Berkshire Hathaway, Etsy (NASDAQ: ETSY), and NBC's Peacock surprise investors in 2021? Will Roblox score a big IPO? Are Marriott International and Match Group poised for a comeback? And how will the cannabis industry fare in the new year? A few Fools tackle those questions, talk about other stocks, and make some reckless predictions about 2021 in this episode of Motley Fool Money.    \n",
       "61                                                                                                                                                                                                                                          In this episode of MarketFoolery, Chris Hill is joined by Motley Fool analyst Jason Moser, as Teledyne (NYSE: TDY) announces plans to buy FLIR Systems (NASDAQ: FLIR) in a cash and stock deal worth $8 billion. Roku (NASDAQ: ROKU) is in advanced talks to buy Quibi's entire catalog of content. Jason analyzes those stories, as well as Chipotle's (NYSE: CMG) new \"rice\" offering and the impending launch of McDonald's (NYSE: MCD) much-anticipated crispy chicken sandwich.   \n",
       "62                                                                                                                                                                                                                                                                                                                                                                                                                                                                                      Shares of digital radio specialist Sirius XM Radio (NASDAQ: SIRI) fell 10.9% in calendar year 2020, according to data from S&P Global Market Intelligence. The stock never made a full recovery from the COVID-19 market panic in March.   \n",
       "63                                                                                                                                                                                                                                                                                                    Who needs amusement parks when you have the stock market? Investors were taken on a roller coaster ride in 2020 due to the pandemic. After the benchmark S&P 500 lost 34% of its value in roughly a month, it spent the following nine months rocketing higher. The 16% gain the S&P 500 registered for 2020 nearly doubled its average annual return over the last 40 years. Not too bad considering all that transpired.   \n",
       "64                                                                                                                                                                                                                                                                                                                                                                                                                                                                                                                                              With a wild 2020 in the books, investors are looking ahead to a new year in which the economy's prospects will largely depend on the successful deployment of COVID-19 vaccines.   \n",
       "65                                                                                                                                                                                                                                                                                                                                                                                                                                                                                                                                                                                                                                                                InvestorPlace - Stock Market News, Stock Advice & Trading Tips   \n",
       "66  Roku Inc stock (NASDAQ: ROKU), a company that sells streaming media players, digital content, and advertising, saw its stock rally by an impressive 135% in the last one year. Compared to its lows of March 2020, the stock is currently up a whopping 420%, with its market cap standing at close to $43 billion currently. The stock now trades at close to 23x projected 2020 revenues, despite the fact that the company is likely to post losses in 2020 as well as 2021. Does this make the stock expensive? Probably not, considering that revenues could grow almost 3x by 2025, with net income turning positive and growing steadily, generating continued returns for shareholders. Here’s how this is possible.   \n",
       "67                                                                                                                                      Tech stocks have been among the top performers on the stock market. Any regular reader of StockMarket.com will tell you this. In fact, most seasoned investors would share this sentiment as well. This is because of the broad array of tech companies out there. Whether it is a new iteration of existing tech or something entirely novel, most investors can find a tech stock that suits their portfolio. Likewise, investors have turned to the top tech stocks in good and bad times. Some would even go as far as to say that they are a safe haven in the stock market today.    \n",
       "68                                                                                                                                                                                                                                                                                                                                                                                                                                                                                                                       NEW YORK/LONDON/HONG KONG (Reuters Breakingviews) -     Corona Capital is a column updated throughout the day by Breakingviews columnists around the world with short, sharp pandemic-related insights.   \n",
       "69                                                                                                                                                                                                                                                                                                                                                                                                                                                                                                                                                                                                                                                                InvestorPlace - Stock Market News, Stock Advice & Trading Tips   \n",
       "70                                                                                                                                                                          Three years ago, Amazon (NASDAQ: AMZN), Berkshire Hathaway (NYSE: BRK-A) (NYSE: BRK-B), and JPMorgan Chase (NYSE: JPM) announced a partnership that would end up becoming Haven Healthcare. Now, the partnership (and Haven) is dissolving. Qualcomm (NASDAQ: QCOM) CEO Steve Mollenkopf announces he's leaving after seven years in the corner office. Ron Gross analyzes those stories, and shares thoughts on portfolio allocation as we dip into the Fool mailbag. Plus, we take a moment to reflect on the 10-year anniversary of this podcast.   \n",
       "71                                                                                                                                                                                                                     If there was any doubt AT&T (NYSE: T) is moving forward with plans to offer an ad-supported version of HBO Max, they were wiped away earlier this week. Speaking at Citi Global TMT's virtual conference on Jan. 5, CFO John Stephens commented: \"That's what AVOD is going to help us do [with HBO Max]: expand the opportunity to serve customers in a different way.\" He went on to say ad-supported streaming would be a chance to \"amortize the investment in content over a greater customer base.\"   \n",
       "72                                                                                                                                                                                                                                                                                                                                                                                                                             In this episode of Rule Breaker Investing, Motley Fool co-founder David Gardner goes through the Fool mailbag, to read about your journeys as investors, your success stories, lessons learned, and reflections on the future. With the new year come new opportunities for growth and optimism.    \n",
       "73                                                                                                                                              Why should investors be watching 5G, financials, healthcare, and industrials in 2021? Why do Cloudflare (NYSE: NET) and Docusign (NASDAQ: DOCU) have big upside potential? Will Berkshire Hathaway, Etsy (NASDAQ: ETSY), and NBC's Peacock surprise investors in 2021? Will Roblox score a big IPO? Are Marriott International and Match Group poised for a comeback? And how will the cannabis industry fare in the new year? A few Fools tackle those questions, talk about other stocks, and make some reckless predictions about 2021 in this episode of Motley Fool Money.    \n",
       "74                                                                                                                                                                                                                                                                                                                                                                                                                                                                                      Shares of digital radio specialist Sirius XM Radio (NASDAQ: SIRI) fell 10.9% in calendar year 2020, according to data from S&P Global Market Intelligence. The stock never made a full recovery from the COVID-19 market panic in March.   \n",
       "75                                                                                                                                                                                                                                          In this episode of MarketFoolery, Chris Hill is joined by Motley Fool analyst Jason Moser, as Teledyne (NYSE: TDY) announces plans to buy FLIR Systems (NASDAQ: FLIR) in a cash and stock deal worth $8 billion. Roku (NASDAQ: ROKU) is in advanced talks to buy Quibi's entire catalog of content. Jason analyzes those stories, as well as Chipotle's (NYSE: CMG) new \"rice\" offering and the impending launch of McDonald's (NYSE: MCD) much-anticipated crispy chicken sandwich.   \n",
       "76                                                                                                                                                                                                                                                                                                                                                                                                                                                                                                                                              With a wild 2020 in the books, investors are looking ahead to a new year in which the economy's prospects will largely depend on the successful deployment of COVID-19 vaccines.   \n",
       "77  Roku Inc stock (NASDAQ: ROKU), a company that sells streaming media players, digital content, and advertising, saw its stock rally by an impressive 135% in the last one year. Compared to its lows of March 2020, the stock is currently up a whopping 420%, with its market cap standing at close to $43 billion currently. The stock now trades at close to 23x projected 2020 revenues, despite the fact that the company is likely to post losses in 2020 as well as 2021. Does this make the stock expensive? Probably not, considering that revenues could grow almost 3x by 2025, with net income turning positive and growing steadily, generating continued returns for shareholders. Here’s how this is possible.   \n",
       "78                                                                                                                                                                                                                                                                                                                                                                                                                                                                                                                                                                                                                                                                InvestorPlace - Stock Market News, Stock Advice & Trading Tips   \n",
       "79                                                                                                                                                                                                                                                                                                    Who needs amusement parks when you have the stock market? Investors were taken on a roller coaster ride in 2020 due to the pandemic. After the benchmark S&P 500 lost 34% of its value in roughly a month, it spent the following nine months rocketing higher. The 16% gain the S&P 500 registered for 2020 nearly doubled its average annual return over the last 40 years. Not too bad considering all that transpired.   \n",
       "80                                                                                                                                      Tech stocks have been among the top performers on the stock market. Any regular reader of StockMarket.com will tell you this. In fact, most seasoned investors would share this sentiment as well. This is because of the broad array of tech companies out there. Whether it is a new iteration of existing tech or something entirely novel, most investors can find a tech stock that suits their portfolio. Likewise, investors have turned to the top tech stocks in good and bad times. Some would even go as far as to say that they are a safe haven in the stock market today.    \n",
       "81                                                                                                                                                                                                                                                                                                                                                                                                                                                                                                                       NEW YORK/LONDON/HONG KONG (Reuters Breakingviews) -     Corona Capital is a column updated throughout the day by Breakingviews columnists around the world with short, sharp pandemic-related insights.   \n",
       "82                                                                                                                                                                                                                                                                                                                                                                                                                                                                                                                                                                                                                                                                InvestorPlace - Stock Market News, Stock Advice & Trading Tips   \n",
       "83                                                                                                                                                                                                                                                                                                                                                                                                                                                                          Analyst firm Cowen just issued a preview of Netflix (NASDAQ: NFLX) earnings for the fourth quarter of 2020. Cowen analyst John Blackledge found a lot to like in his Netflix research and ended up boosting his one-year target price for the stock.   \n",
       "\n",
       "   sentiments  \n",
       "0           1  \n",
       "1           0  \n",
       "2           0  \n",
       "3           0  \n",
       "4           1  \n",
       "5           0  \n",
       "6           0  \n",
       "7           0  \n",
       "8           1  \n",
       "9           1  \n",
       "10          0  \n",
       "11          0  \n",
       "12          0  \n",
       "13          0  \n",
       "14          0  \n",
       "15          1  \n",
       "16          0  \n",
       "17          0  \n",
       "18          0  \n",
       "19          0  \n",
       "20          0  \n",
       "21          1  \n",
       "22          1  \n",
       "23          1  \n",
       "24          0  \n",
       "25          0  \n",
       "26          2  \n",
       "27          0  \n",
       "28          0  \n",
       "29          0  \n",
       "30          0  \n",
       "31          1  \n",
       "32          0  \n",
       "33          0  \n",
       "34          0  \n",
       "35          0  \n",
       "36          1  \n",
       "37          0  \n",
       "38          0  \n",
       "39          0  \n",
       "40          0  \n",
       "41          0  \n",
       "42          0  \n",
       "43          2  \n",
       "44          1  \n",
       "45          0  \n",
       "46          0  \n",
       "47          1  \n",
       "48          0  \n",
       "49          0  \n",
       "50          2  \n",
       "51          0  \n",
       "52          0  \n",
       "53          0  \n",
       "54          0  \n",
       "55          0  \n",
       "56          0  \n",
       "57          1  \n",
       "58          0  \n",
       "59          1  \n",
       "60          0  \n",
       "61          0  \n",
       "62          2  \n",
       "63          0  \n",
       "64          0  \n",
       "65          0  \n",
       "66          0  \n",
       "67          0  \n",
       "68          1  \n",
       "69          0  \n",
       "70          1  \n",
       "71          0  \n",
       "72          1  \n",
       "73          0  \n",
       "74          2  \n",
       "75          0  \n",
       "76          0  \n",
       "77          0  \n",
       "78          0  \n",
       "79          0  \n",
       "80          0  \n",
       "81          1  \n",
       "82          0  \n",
       "83          1  "
      ]
     },
     "execution_count": 81,
     "metadata": {},
     "output_type": "execute_result"
    }
   ],
   "source": [
    "df_topred['sentiments'] = df_topred['content'].apply(lambda x : sentiment_producer(x))\n",
    "df_topred"
   ]
  }
 ],
 "metadata": {
  "kernelspec": {
   "display_name": "Python 3",
   "language": "python",
   "name": "python3"
  },
  "language_info": {
   "codemirror_mode": {
    "name": "ipython",
    "version": 3
   },
   "file_extension": ".py",
   "mimetype": "text/x-python",
   "name": "python",
   "nbconvert_exporter": "python",
   "pygments_lexer": "ipython3",
   "version": "3.6.9"
  }
 },
 "nbformat": 4,
 "nbformat_minor": 4
}
